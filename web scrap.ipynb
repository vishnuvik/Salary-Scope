{
 "cells": [
  {
   "cell_type": "markdown",
   "id": "34fd9e1c-4492-4136-b9f0-0db23971d921",
   "metadata": {},
   "source": [
    "### Web scrap data "
   ]
  },
  {
   "cell_type": "code",
   "execution_count": 10,
   "id": "bf3121d5-ffec-43c4-8aa4-2e81bc8f067b",
   "metadata": {},
   "outputs": [
    {
     "name": "stdout",
     "output_type": "stream",
     "text": [
      "3.141.0\n"
     ]
    }
   ],
   "source": [
    "import selenium\n",
    "\n",
    "print(selenium.__version__)\n"
   ]
  },
  {
   "cell_type": "markdown",
   "id": "47b962db-1d66-4f5b-b89a-d48a9b7f2d58",
   "metadata": {},
   "source": [
    "### code to scrap from indeed"
   ]
  },
  {
   "cell_type": "code",
   "execution_count": null,
   "id": "c90abaf7-5c99-4e84-94e3-9b188116c69b",
   "metadata": {},
   "outputs": [],
   "source": [
    "import requests\n",
    "import time\n",
    "from datetime import datetime, timedelta\n",
    "from bs4 import BeautifulSoup\n",
    "import re\n",
    "import pandas as pd\n",
    "from pymongo import MongoClient\n",
    "\n",
    "source = \"indeed.com\"\n",
    "cookies = {'aep_usuc_f': 'region=US&site=glo&b_locale=en_US&c_tp=USD'}\n",
    "\n",
    "def get_url(position):\n",
    "    \"\"\"\n",
    "    Generate URL from position\n",
    "    \"\"\"\n",
    "    return f\"https://indeed.com/jobs?q={position}\"\n",
    "\n",
    "def get_job_date(card):\n",
    "    \"\"\"\n",
    "    Extracts date from the job post record\n",
    "    \"\"\"\n",
    "    post_str = card.find('span', {'class': 'date'}).text  # text from the footer: days ago was posted\n",
    "    post_days = re.findall(r'\\d+', post_str)  # extracting number of days from posted_str\n",
    "\n",
    "    if post_days:\n",
    "        # calculated date of job posting if days are mentioned\n",
    "        job_date = (datetime.now() - timedelta(days=int(post_days[0]))).strftime(\"%d/%m/%Y\")\n",
    "    else:\n",
    "        job_date = datetime.now().strftime(\"%d/%m/%Y\")  # if days are not mentioned - using today\n",
    "\n",
    "    return job_date\n",
    "\n",
    "def get_job_salaries(card):\n",
    "    \"\"\"\n",
    "    Extracts salaries\n",
    "    \"\"\"\n",
    "    try:\n",
    "        salary_str = card.find('div', 'metadata salary-snippet-container').text\n",
    "        salaries = re.findall(r\"\\$\\d+(?:\\,\\d+)*(?:\\.\\d+)?\", salary_str)  # Extracting salary in $ format\n",
    "    except AttributeError:\n",
    "        salaries = []\n",
    "    return salaries\n",
    "\n",
    "def get_job_rating(card):\n",
    "    \"\"\"\n",
    "    Extracts company rating if available\n",
    "    \"\"\"\n",
    "    try:\n",
    "        rating = card.find('span', {'class': 'ratingNumber'}).text\n",
    "    except AttributeError:\n",
    "        rating = None\n",
    "    return rating\n",
    "\n",
    "def get_record(card):\n",
    "    \"\"\"\n",
    "    Extract job data from a single record\n",
    "    \"\"\"\n",
    "    span_tag = card.h2.a.span\n",
    "    a_tag = card.h2.a\n",
    "\n",
    "    job_id = a_tag.get(\"data-jk\")  # unique job id\n",
    "    job_title = span_tag.get(\"title\")  # job title\n",
    "    job_url = 'https://www.indeed.com' + a_tag.get('href')  # job url\n",
    "    company_name = card.find('span', {'class': 'companyName'}).text  # company name\n",
    "    job_loc = card.find('div', {'class': 'companyLocation'}).text  # job location\n",
    "    job_summary = card.find('div', {'class': 'job-snippet'}).text.strip()  # job description\n",
    "    job_date = get_job_date(card)  # job posting date\n",
    "    job_salary = get_job_salaries(card)  # job salaries if any\n",
    "    job_rating = get_job_rating(card)  # company rating if any\n",
    "\n",
    "    return {\n",
    "        'Description2': job_summary,\n",
    "        'Company_name': company_name,\n",
    "        'Location': job_loc,\n",
    "        'Salary_range': job_salary,\n",
    "        'Date': job_date,\n",
    "        'Rating': job_rating,\n",
    "        'job_id': job_id,\n",
    "        'job_title': job_title,\n",
    "        'job_url': job_url\n",
    "    }\n",
    "\n",
    "def get_jobs(position):\n",
    "    \"\"\"\n",
    "    Creates a DataFrame with all records (scraped jobs), scraping from all pages\n",
    "    \"\"\"\n",
    "    url = get_url(position)\n",
    "    records = []\n",
    "\n",
    "    session = requests.Session()\n",
    "    session.cookies.update(cookies)\n",
    "\n",
    "    # extract the job data\n",
    "    while True:\n",
    "        response = \"\"\n",
    "        while response == \"\":\n",
    "            try:\n",
    "                response = session.get(url)\n",
    "                break\n",
    "            except requests.ConnectionError:\n",
    "                print(\"Connection refused by the server..\")\n",
    "                print(\"Let me sleep for 5 seconds\")\n",
    "                print(\"ZZzzzz...\")\n",
    "                time.sleep(5)\n",
    "                print(\"Was a nice sleep, now let me continue...\")\n",
    "                continue\n",
    "\n",
    "        soup = BeautifulSoup(response.text, 'html.parser')\n",
    "        cards = soup.find_all('div', 'job_seen_beacon')\n",
    "\n",
    "        for card in cards:\n",
    "            record = get_record(card)\n",
    "            records.append(record)\n",
    "\n",
    "        time.sleep(3)  # making a pause before moving to the next page\n",
    "\n",
    "        # moving to the next page - > assigning a new url\n",
    "        try:\n",
    "            url = 'https://indeed.com' + soup.find('a', {'aria-label': 'Next'}).get('href')\n",
    "        except AttributeError:\n",
    "            break\n",
    "\n",
    "    return records\n",
    "\n",
    "def save_to_mongodb(data, db_name, collection_name):\n",
    "    \"\"\"\n",
    "    Save data to MongoDB\n",
    "    \"\"\"\n",
    "    client = MongoClient(\"mongodb://localhost:27017/\")\n",
    "    db = client[db_name]\n",
    "    collection = db[collection_name]\n",
    "    collection.insert_many(data)\n",
    "    print(f\"Data saved to MongoDB in the collection '{collection_name}' of database '{db_name}'\")\n",
    "\n",
    "# Example usage\n",
    "if __name__ == \"__main__\":\n",
    "    position = \"data+scientist\"\n",
    "    records = get_jobs(position)\n",
    "    save_to_mongodb(records, \"test\", \"indeed\")\n",
    "    print(\"Scraping completed and data saved to MongoDB\")\n"
   ]
  },
  {
   "cell_type": "code",
   "execution_count": null,
   "id": "6f396033-58a6-4018-92f9-ed5bfc9bb969",
   "metadata": {},
   "outputs": [],
   "source": []
  },
  {
   "cell_type": "code",
   "execution_count": null,
   "id": "cddd1155-58bb-44ac-b55a-a5b9473de643",
   "metadata": {},
   "outputs": [],
   "source": []
  },
  {
   "cell_type": "code",
   "execution_count": null,
   "id": "900c1f16-29e8-4e8b-9b7b-04f8e857645c",
   "metadata": {},
   "outputs": [],
   "source": []
  },
  {
   "cell_type": "code",
   "execution_count": null,
   "id": "4ba7e6d3-4766-4fd3-b93b-2b469419f64e",
   "metadata": {},
   "outputs": [],
   "source": []
  },
  {
   "cell_type": "code",
   "execution_count": null,
   "id": "714096ed-3ad7-4471-8492-d8a7592c14ae",
   "metadata": {},
   "outputs": [],
   "source": []
  },
  {
   "cell_type": "code",
   "execution_count": null,
   "id": "1c17200a-f67a-4518-8862-681cd563e244",
   "metadata": {},
   "outputs": [],
   "source": []
  },
  {
   "cell_type": "code",
   "execution_count": null,
   "id": "e38530bb-5c46-4b4c-a2d0-1bd73a005089",
   "metadata": {},
   "outputs": [],
   "source": []
  },
  {
   "cell_type": "code",
   "execution_count": null,
   "id": "1cb7eb3f-6aa0-446b-b17c-712acb6ad393",
   "metadata": {},
   "outputs": [],
   "source": []
  },
  {
   "cell_type": "code",
   "execution_count": null,
   "id": "acba559f-1659-4b03-be41-e29536fbdcc3",
   "metadata": {},
   "outputs": [],
   "source": []
  },
  {
   "cell_type": "code",
   "execution_count": null,
   "id": "1ffdaa7b-7b72-4f4a-b0a9-3a4176a49cde",
   "metadata": {},
   "outputs": [],
   "source": []
  },
  {
   "cell_type": "code",
   "execution_count": null,
   "id": "d8851168-c17a-4573-ac95-7e4289ef82c9",
   "metadata": {},
   "outputs": [],
   "source": []
  },
  {
   "cell_type": "code",
   "execution_count": null,
   "id": "63c39885-e9da-4643-bc79-f619f2489cca",
   "metadata": {},
   "outputs": [],
   "source": []
  },
  {
   "cell_type": "code",
   "execution_count": null,
   "id": "bb6f1841-36bd-4a0e-9596-3a469854ca22",
   "metadata": {},
   "outputs": [],
   "source": []
  },
  {
   "cell_type": "code",
   "execution_count": null,
   "id": "77a43e33-3bc4-46e9-9052-d36de302e2c3",
   "metadata": {},
   "outputs": [],
   "source": []
  },
  {
   "cell_type": "code",
   "execution_count": null,
   "id": "4e8b69af-0144-4ba9-a60c-a2a4ae1910a0",
   "metadata": {},
   "outputs": [],
   "source": []
  },
  {
   "cell_type": "code",
   "execution_count": null,
   "id": "ca8188b2-58c0-484f-b37e-55b4aeb66d1a",
   "metadata": {},
   "outputs": [],
   "source": []
  },
  {
   "cell_type": "code",
   "execution_count": null,
   "id": "e79528ca-5a69-49b7-8099-8d040b126317",
   "metadata": {},
   "outputs": [],
   "source": []
  },
  {
   "cell_type": "code",
   "execution_count": null,
   "id": "a03a4c6d-942a-4013-ad14-4cf1fa773002",
   "metadata": {},
   "outputs": [],
   "source": []
  },
  {
   "cell_type": "code",
   "execution_count": null,
   "id": "e5d81c64-449f-4e23-8586-f8a396ea2d28",
   "metadata": {},
   "outputs": [],
   "source": []
  },
  {
   "cell_type": "code",
   "execution_count": null,
   "id": "6e086ede-a910-44d7-b4af-576a808d5a6b",
   "metadata": {},
   "outputs": [],
   "source": []
  },
  {
   "cell_type": "code",
   "execution_count": null,
   "id": "b74804a0-8949-4e1d-84c6-9c1ad61df304",
   "metadata": {},
   "outputs": [],
   "source": []
  },
  {
   "cell_type": "code",
   "execution_count": null,
   "id": "c29cf27f-4a20-4479-bf96-c2e21cb09e2b",
   "metadata": {},
   "outputs": [],
   "source": []
  },
  {
   "cell_type": "code",
   "execution_count": null,
   "id": "556fb41b-df8a-4962-a93c-b025dab80b1c",
   "metadata": {},
   "outputs": [],
   "source": []
  }
 ],
 "metadata": {
  "kernelspec": {
   "display_name": "Python 3 (ipykernel)",
   "language": "python",
   "name": "python3"
  },
  "language_info": {
   "codemirror_mode": {
    "name": "ipython",
    "version": 3
   },
   "file_extension": ".py",
   "mimetype": "text/x-python",
   "name": "python",
   "nbconvert_exporter": "python",
   "pygments_lexer": "ipython3",
   "version": "3.11.7"
  }
 },
 "nbformat": 4,
 "nbformat_minor": 5
}
