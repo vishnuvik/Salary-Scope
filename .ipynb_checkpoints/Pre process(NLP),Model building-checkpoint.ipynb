{
 "cells": [
  {
   "cell_type": "code",
   "execution_count": 208,
   "id": "6da15003-6747-4be8-b318-c9714532608d",
   "metadata": {},
   "outputs": [],
   "source": [
    "import pandas as pd\n",
    "from pymongo import MongoClient\n",
    "import numpy as np\n",
    "import matplotlib.pyplot as plt\n",
    "import seaborn as sns\n",
    "import scipy.stats as stats\n",
    "from sklearn.impute import SimpleImputer\n",
    "import re\n",
    "from sklearn.preprocessing import LabelEncoder\n",
    "from collections import Counter\n",
    "from itertools import chain\n",
    "import ast\n",
    "from sklearn.preprocessing import StandardScaler\n",
    "from sklearn.preprocessing import MinMaxScaler"
   ]
  },
  {
   "cell_type": "code",
   "execution_count": 209,
   "id": "83467ce2-62b5-4bde-a9c9-80711773f548",
   "metadata": {},
   "outputs": [],
   "source": [
    "df=pd.read_csv(\"C:/Users/vishn/OneDrive/Desktop/Job market prediction/Pre-process-scrap.csv\")"
   ]
  },
  {
   "cell_type": "code",
   "execution_count": 210,
   "id": "a973a701-85b0-4d6f-ac8b-3772294c51e2",
   "metadata": {},
   "outputs": [],
   "source": [
    "col_drop=['Unnamed: 0','Rating','High_skills','Low_skills']\n",
    "df.drop(columns=col_drop, inplace=True)"
   ]
  },
  {
   "cell_type": "code",
   "execution_count": 211,
   "id": "4edaa17d-7748-499d-88c9-66e2dc3b9bc1",
   "metadata": {},
   "outputs": [],
   "source": [
    "df.rename(columns={\n",
    "    'Jobs_Group': 'Job_Title',\n",
    "    'Profile': 'position',\n",
    "    'Remote': 'Work Location',\n",
    "    'Mean_Salary': 'Salary',\n",
    "}, inplace=True)"
   ]
  },
  {
   "cell_type": "code",
   "execution_count": 212,
   "id": "e1b39a6b-652a-472e-b47c-9431bfdbb5b3",
   "metadata": {},
   "outputs": [
    {
     "name": "stdout",
     "output_type": "stream",
     "text": [
      "<class 'pandas.core.frame.DataFrame'>\n",
      "RangeIndex: 146392 entries, 0 to 146391\n",
      "Data columns (total 8 columns):\n",
      " #   Column           Non-Null Count   Dtype  \n",
      "---  ------           --------------   -----  \n",
      " 0   Job_Title        146392 non-null  object \n",
      " 1   position         146392 non-null  object \n",
      " 2   Work Location    56993 non-null   object \n",
      " 3   Company          146392 non-null  object \n",
      " 4   State            133817 non-null  object \n",
      " 5   Salary           146392 non-null  float64\n",
      " 6   Skills           146392 non-null  object \n",
      " 7   Job_description  146392 non-null  object \n",
      "dtypes: float64(1), object(7)\n",
      "memory usage: 8.9+ MB\n"
     ]
    }
   ],
   "source": [
    "df.info()"
   ]
  },
  {
   "cell_type": "code",
   "execution_count": 213,
   "id": "defb2f67-cb74-45b2-92d3-916ceb00b1c2",
   "metadata": {},
   "outputs": [
    {
     "data": {
      "text/plain": [
       "(146392, 8)"
      ]
     },
     "execution_count": 213,
     "metadata": {},
     "output_type": "execute_result"
    }
   ],
   "source": [
    "df.shape"
   ]
  },
  {
   "cell_type": "code",
   "execution_count": 214,
   "id": "eb6fd970-a99b-4cee-b5ee-7b8ce3b860aa",
   "metadata": {},
   "outputs": [
    {
     "data": {
      "text/html": [
       "<div>\n",
       "<style scoped>\n",
       "    .dataframe tbody tr th:only-of-type {\n",
       "        vertical-align: middle;\n",
       "    }\n",
       "\n",
       "    .dataframe tbody tr th {\n",
       "        vertical-align: top;\n",
       "    }\n",
       "\n",
       "    .dataframe thead th {\n",
       "        text-align: right;\n",
       "    }\n",
       "</style>\n",
       "<table border=\"1\" class=\"dataframe\">\n",
       "  <thead>\n",
       "    <tr style=\"text-align: right;\">\n",
       "      <th></th>\n",
       "      <th>Job_Title</th>\n",
       "      <th>position</th>\n",
       "      <th>Work Location</th>\n",
       "      <th>Company</th>\n",
       "      <th>State</th>\n",
       "      <th>Salary</th>\n",
       "      <th>Skills</th>\n",
       "      <th>Job_description</th>\n",
       "    </tr>\n",
       "  </thead>\n",
       "  <tbody>\n",
       "    <tr>\n",
       "      <th>74102</th>\n",
       "      <td>Data Engineer</td>\n",
       "      <td>Senior</td>\n",
       "      <td>NaN</td>\n",
       "      <td>Rivian</td>\n",
       "      <td>CA</td>\n",
       "      <td>195600.0</td>\n",
       "      <td>['Spark', 'Python', 'SQL', 'AWS']</td>\n",
       "      <td>Create and maintain data documentation and met...</td>\n",
       "    </tr>\n",
       "  </tbody>\n",
       "</table>\n",
       "</div>"
      ],
      "text/plain": [
       "           Job_Title position Work Location Company State    Salary  \\\n",
       "74102  Data Engineer   Senior           NaN  Rivian    CA  195600.0   \n",
       "\n",
       "                                  Skills  \\\n",
       "74102  ['Spark', 'Python', 'SQL', 'AWS']   \n",
       "\n",
       "                                         Job_description  \n",
       "74102  Create and maintain data documentation and met...  "
      ]
     },
     "execution_count": 214,
     "metadata": {},
     "output_type": "execute_result"
    }
   ],
   "source": [
    "df.sample()"
   ]
  },
  {
   "cell_type": "code",
   "execution_count": 215,
   "id": "f8db2a15-40f0-4c78-8c84-217e3885dd8d",
   "metadata": {},
   "outputs": [
    {
     "name": "stdout",
     "output_type": "stream",
     "text": [
      "<class 'pandas.core.frame.DataFrame'>\n",
      "RangeIndex: 146392 entries, 0 to 146391\n",
      "Data columns (total 8 columns):\n",
      " #   Column           Non-Null Count   Dtype  \n",
      "---  ------           --------------   -----  \n",
      " 0   Job_Title        146392 non-null  object \n",
      " 1   position         146392 non-null  object \n",
      " 2   Work Location    56993 non-null   object \n",
      " 3   Company          146392 non-null  object \n",
      " 4   State            133817 non-null  object \n",
      " 5   Salary           146392 non-null  float64\n",
      " 6   Skills           146392 non-null  object \n",
      " 7   Job_description  146392 non-null  object \n",
      "dtypes: float64(1), object(7)\n",
      "memory usage: 8.9+ MB\n"
     ]
    },
    {
     "data": {
      "text/html": [
       "<div>\n",
       "<style scoped>\n",
       "    .dataframe tbody tr th:only-of-type {\n",
       "        vertical-align: middle;\n",
       "    }\n",
       "\n",
       "    .dataframe tbody tr th {\n",
       "        vertical-align: top;\n",
       "    }\n",
       "\n",
       "    .dataframe thead th {\n",
       "        text-align: right;\n",
       "    }\n",
       "</style>\n",
       "<table border=\"1\" class=\"dataframe\">\n",
       "  <thead>\n",
       "    <tr style=\"text-align: right;\">\n",
       "      <th></th>\n",
       "      <th>Salary</th>\n",
       "    </tr>\n",
       "  </thead>\n",
       "  <tbody>\n",
       "    <tr>\n",
       "      <th>count</th>\n",
       "      <td>146392.000000</td>\n",
       "    </tr>\n",
       "    <tr>\n",
       "      <th>mean</th>\n",
       "      <td>106601.782651</td>\n",
       "    </tr>\n",
       "    <tr>\n",
       "      <th>std</th>\n",
       "      <td>45186.032109</td>\n",
       "    </tr>\n",
       "    <tr>\n",
       "      <th>min</th>\n",
       "      <td>15.260000</td>\n",
       "    </tr>\n",
       "    <tr>\n",
       "      <th>25%</th>\n",
       "      <td>75440.000000</td>\n",
       "    </tr>\n",
       "    <tr>\n",
       "      <th>50%</th>\n",
       "      <td>98282.750000</td>\n",
       "    </tr>\n",
       "    <tr>\n",
       "      <th>75%</th>\n",
       "      <td>128505.600000</td>\n",
       "    </tr>\n",
       "    <tr>\n",
       "      <th>max</th>\n",
       "      <td>600000.000000</td>\n",
       "    </tr>\n",
       "  </tbody>\n",
       "</table>\n",
       "</div>"
      ],
      "text/plain": [
       "              Salary\n",
       "count  146392.000000\n",
       "mean   106601.782651\n",
       "std     45186.032109\n",
       "min        15.260000\n",
       "25%     75440.000000\n",
       "50%     98282.750000\n",
       "75%    128505.600000\n",
       "max    600000.000000"
      ]
     },
     "execution_count": 215,
     "metadata": {},
     "output_type": "execute_result"
    }
   ],
   "source": [
    "df.info()\n",
    "df.describe()"
   ]
  },
  {
   "cell_type": "code",
   "execution_count": 216,
   "id": "8c0cbc22-bd00-41ac-8ebb-4d97557979ee",
   "metadata": {},
   "outputs": [
    {
     "data": {
      "text/plain": [
       "Job_Title              0\n",
       "position               0\n",
       "Work Location      89399\n",
       "Company                0\n",
       "State              12575\n",
       "Salary                 0\n",
       "Skills                 0\n",
       "Job_description        0\n",
       "dtype: int64"
      ]
     },
     "execution_count": 216,
     "metadata": {},
     "output_type": "execute_result"
    }
   ],
   "source": [
    "df.isnull().sum()"
   ]
  },
  {
   "cell_type": "markdown",
   "id": "8e7bdaa9-59cf-4a17-9baa-c2a7ecc86313",
   "metadata": {},
   "source": [
    "### Respective Encoding techniques for columns"
   ]
  },
  {
   "cell_type": "markdown",
   "id": "81191da4-d6b7-411a-9ec7-de914e24d8b2",
   "metadata": {},
   "source": [
    "#### Retrieving the most frequent comapnies to avoid more categories"
   ]
  },
  {
   "cell_type": "code",
   "execution_count": 217,
   "id": "1d7c1bc0-8442-4289-a90c-f72911fadfc8",
   "metadata": {},
   "outputs": [],
   "source": [
    "top_companies = df['Company'].value_counts().nlargest(50).index\n",
    "\n",
    "# Filter the DataFrame to include only rows with the top 15 companies\n",
    "df_top_companies = df[df['Company'].isin(top_companies)]"
   ]
  },
  {
   "cell_type": "code",
   "execution_count": 218,
   "id": "bc5a99d0-dc2a-49bc-9a38-02a9aec109ad",
   "metadata": {},
   "outputs": [],
   "source": [
    "df=df_top_companies"
   ]
  },
  {
   "cell_type": "code",
   "execution_count": 219,
   "id": "d91de210-52e5-47e6-a827-055323ec9a0c",
   "metadata": {},
   "outputs": [
    {
     "data": {
      "text/plain": [
       "(12448, 8)"
      ]
     },
     "execution_count": 219,
     "metadata": {},
     "output_type": "execute_result"
    }
   ],
   "source": [
    "df.shape"
   ]
  },
  {
   "cell_type": "code",
   "execution_count": 220,
   "id": "83f816a0-1502-4b32-a38f-4d9658145e5b",
   "metadata": {},
   "outputs": [
    {
     "data": {
      "text/html": [
       "<div>\n",
       "<style scoped>\n",
       "    .dataframe tbody tr th:only-of-type {\n",
       "        vertical-align: middle;\n",
       "    }\n",
       "\n",
       "    .dataframe tbody tr th {\n",
       "        vertical-align: top;\n",
       "    }\n",
       "\n",
       "    .dataframe thead th {\n",
       "        text-align: right;\n",
       "    }\n",
       "</style>\n",
       "<table border=\"1\" class=\"dataframe\">\n",
       "  <thead>\n",
       "    <tr style=\"text-align: right;\">\n",
       "      <th></th>\n",
       "      <th>Job_Title</th>\n",
       "      <th>position</th>\n",
       "      <th>Work Location</th>\n",
       "      <th>Company</th>\n",
       "      <th>State</th>\n",
       "      <th>Salary</th>\n",
       "      <th>Skills</th>\n",
       "      <th>Job_description</th>\n",
       "    </tr>\n",
       "  </thead>\n",
       "  <tbody>\n",
       "    <tr>\n",
       "      <th>61520</th>\n",
       "      <td>Financial Analyst</td>\n",
       "      <td>Senior</td>\n",
       "      <td>Hybrid</td>\n",
       "      <td>HCSC</td>\n",
       "      <td>IL</td>\n",
       "      <td>68280.0</td>\n",
       "      <td>['Teradata', 'Tableau', 'Salesforce', 'Power B...</td>\n",
       "      <td>Support financial audits and compliance.</td>\n",
       "    </tr>\n",
       "    <tr>\n",
       "      <th>23548</th>\n",
       "      <td>Business Analyst</td>\n",
       "      <td>Lead</td>\n",
       "      <td>NaN</td>\n",
       "      <td>Fiserv, Inc.</td>\n",
       "      <td>NE</td>\n",
       "      <td>110400.0</td>\n",
       "      <td>['Bachelor']</td>\n",
       "      <td>Monitor and evaluate project performance and o...</td>\n",
       "    </tr>\n",
       "  </tbody>\n",
       "</table>\n",
       "</div>"
      ],
      "text/plain": [
       "               Job_Title position Work Location       Company State    Salary  \\\n",
       "61520  Financial Analyst   Senior        Hybrid          HCSC    IL   68280.0   \n",
       "23548   Business Analyst     Lead           NaN  Fiserv, Inc.    NE  110400.0   \n",
       "\n",
       "                                                  Skills  \\\n",
       "61520  ['Teradata', 'Tableau', 'Salesforce', 'Power B...   \n",
       "23548                                       ['Bachelor']   \n",
       "\n",
       "                                         Job_description  \n",
       "61520           Support financial audits and compliance.  \n",
       "23548  Monitor and evaluate project performance and o...  "
      ]
     },
     "execution_count": 220,
     "metadata": {},
     "output_type": "execute_result"
    }
   ],
   "source": [
    "df.sample(2)"
   ]
  },
  {
   "cell_type": "code",
   "execution_count": 221,
   "id": "f5971447-2cbd-4d9d-a6c2-d173f0a95625",
   "metadata": {},
   "outputs": [
    {
     "data": {
      "text/plain": [
       "Company\n",
       "JPMorgan Chase & Co                          664\n",
       "Amazon.com Services LLC                      603\n",
       "Apple                                        596\n",
       "Lockheed Martin                              525\n",
       "Booz Allen Hamilton                          464\n",
       "Deloitte                                     446\n",
       "Citi                                         371\n",
       "Walmart                                      305\n",
       "CVS Health                                   293\n",
       "HCA Healthcare                               292\n",
       "Wells Fargo                                  289\n",
       "JPMorgan Chase Bank, N.A.                    278\n",
       "Capital One                                  272\n",
       "Google                                       267\n",
       "Thermo Fisher Scientific                     264\n",
       "Capgemini                                    252\n",
       "CACI                                         241\n",
       "Leidos                                       236\n",
       "TikTok                                       231\n",
       "Cognizant Technology Solutions               228\n",
       "Meta                                         224\n",
       "BOEING                                       221\n",
       "Northrop Grumman                             220\n",
       "Inclusively                                  211\n",
       "U.S. Bank National Association               210\n",
       "Fidelity Investments                         207\n",
       "The State of Florida                         207\n",
       "General Dynamics Information Technology      198\n",
       "Imagine One Technology & Management, Ltd.    188\n",
       "Peraton                                      186\n",
       "NVIDIA                                       186\n",
       "Discover Financial Services                  180\n",
       "Spectrum                                     179\n",
       "Comcast                                      178\n",
       "The Infosoft Group                           172\n",
       "Disney                                       171\n",
       "Microsoft                                    170\n",
       "CBRE                                         169\n",
       "Amentum                                      165\n",
       "NYC Careers                                  163\n",
       "BNY Mellon                                   162\n",
       "SAIC                                         158\n",
       "Fiserv, Inc.                                 158\n",
       "Visa                                         157\n",
       "Mercy                                        150\n",
       "HCSC                                         149\n",
       "Randstad                                     148\n",
       "Na Oiwi Kane                                 148\n",
       "Oracle                                       148\n",
       "Johnson & Johnson                            148\n",
       "Name: count, dtype: int64"
      ]
     },
     "execution_count": 221,
     "metadata": {},
     "output_type": "execute_result"
    }
   ],
   "source": [
    "df['Company'].value_counts()"
   ]
  },
  {
   "cell_type": "code",
   "execution_count": 222,
   "id": "c89809a8-9810-44d6-89d8-6803f62418bf",
   "metadata": {},
   "outputs": [
    {
     "data": {
      "text/plain": [
       "(12448, 8)"
      ]
     },
     "execution_count": 222,
     "metadata": {},
     "output_type": "execute_result"
    }
   ],
   "source": [
    "df.shape"
   ]
  },
  {
   "cell_type": "code",
   "execution_count": 223,
   "id": "1e66e55b-3055-40f1-9926-a7e841b25849",
   "metadata": {},
   "outputs": [
    {
     "data": {
      "text/plain": [
       "Index(['Job_Title', 'position', 'Work Location', 'Company', 'State', 'Salary',\n",
       "       'Skills', 'Job_description'],\n",
       "      dtype='object')"
      ]
     },
     "execution_count": 223,
     "metadata": {},
     "output_type": "execute_result"
    }
   ],
   "source": [
    "df.columns"
   ]
  },
  {
   "cell_type": "code",
   "execution_count": 224,
   "id": "32dc8551-af37-460e-b749-1c8e775e2044",
   "metadata": {},
   "outputs": [
    {
     "data": {
      "text/plain": [
       "Job_Title             0\n",
       "position              0\n",
       "Work Location      8286\n",
       "Company               0\n",
       "State               352\n",
       "Salary                0\n",
       "Skills                0\n",
       "Job_description       0\n",
       "dtype: int64"
      ]
     },
     "execution_count": 224,
     "metadata": {},
     "output_type": "execute_result"
    }
   ],
   "source": [
    "df.isnull().sum()"
   ]
  },
  {
   "cell_type": "code",
   "execution_count": 225,
   "id": "a8487aef-cc8e-48b3-b829-5c9007366682",
   "metadata": {},
   "outputs": [
    {
     "data": {
      "text/html": [
       "<div>\n",
       "<style scoped>\n",
       "    .dataframe tbody tr th:only-of-type {\n",
       "        vertical-align: middle;\n",
       "    }\n",
       "\n",
       "    .dataframe tbody tr th {\n",
       "        vertical-align: top;\n",
       "    }\n",
       "\n",
       "    .dataframe thead th {\n",
       "        text-align: right;\n",
       "    }\n",
       "</style>\n",
       "<table border=\"1\" class=\"dataframe\">\n",
       "  <thead>\n",
       "    <tr style=\"text-align: right;\">\n",
       "      <th></th>\n",
       "      <th>Job_Title</th>\n",
       "      <th>position</th>\n",
       "      <th>Work Location</th>\n",
       "      <th>Company</th>\n",
       "      <th>State</th>\n",
       "      <th>Salary</th>\n",
       "      <th>Skills</th>\n",
       "      <th>Job_description</th>\n",
       "    </tr>\n",
       "  </thead>\n",
       "  <tbody>\n",
       "    <tr>\n",
       "      <th>94497</th>\n",
       "      <td>Data Engineer</td>\n",
       "      <td>Lead</td>\n",
       "      <td>NaN</td>\n",
       "      <td>Apple</td>\n",
       "      <td>CA</td>\n",
       "      <td>117591.6</td>\n",
       "      <td>['Python', 'PhD', 'Machine Learning', 'Deep Le...</td>\n",
       "      <td>Implement data security measures and compliance.</td>\n",
       "    </tr>\n",
       "  </tbody>\n",
       "</table>\n",
       "</div>"
      ],
      "text/plain": [
       "           Job_Title position Work Location Company State    Salary  \\\n",
       "94497  Data Engineer     Lead           NaN   Apple    CA  117591.6   \n",
       "\n",
       "                                                  Skills  \\\n",
       "94497  ['Python', 'PhD', 'Machine Learning', 'Deep Le...   \n",
       "\n",
       "                                        Job_description  \n",
       "94497  Implement data security measures and compliance.  "
      ]
     },
     "execution_count": 225,
     "metadata": {},
     "output_type": "execute_result"
    }
   ],
   "source": [
    "df.sample()"
   ]
  },
  {
   "cell_type": "code",
   "execution_count": 226,
   "id": "b3157309-2ef0-439b-aa98-a57448f8a1ba",
   "metadata": {},
   "outputs": [],
   "source": [
    "### Skills Column"
   ]
  },
  {
   "cell_type": "code",
   "execution_count": 227,
   "id": "bc412cb7-a90f-43bd-b0e3-3f5d9cd3f88e",
   "metadata": {},
   "outputs": [],
   "source": [
    "# Convert string representations of lists to actual lists\n",
    "import ast\n",
    "\n",
    "df['Skills'] = df['Skills'].apply(ast.literal_eval)"
   ]
  },
  {
   "cell_type": "code",
   "execution_count": 228,
   "id": "acf02e67-eabf-4588-9dc5-47c7e9342807",
   "metadata": {},
   "outputs": [],
   "source": [
    "# Flatten the list of lists and count occurrences\n",
    "all_skills = [skill for sublist in df['Skills'] for skill in sublist]\n",
    "skill_counts = Counter(all_skills)\n",
    "\n",
    "# Define high and low skills (example criteria)\n",
    "high_skill_threshold = 250\n",
    "high_skills = set(skill for skill, count in skill_counts.items() if count >= high_skill_threshold)\n",
    "low_skills = set(skill for skill, count in skill_counts.items() if count < high_skill_threshold)\n",
    "\n"
   ]
  },
  {
   "cell_type": "code",
   "execution_count": 229,
   "id": "33d237ba-da1b-4c0e-a273-ec7b6af3c439",
   "metadata": {},
   "outputs": [
    {
     "name": "stdout",
     "output_type": "stream",
     "text": [
      "High skills: {'Machine Learning', 'Dynamics 365', 'Agile', 'AWS', 'Google Cloud', 'Access', 'Docker', 'VBA', 'SQL', 'R', 'MBA', 'PowerPoint', 'English', 'Bachelor', 'Excel', 'Snowflake', 'JavaScript', 'Master', 'Jira', 'Word', 'Databricks', 'Tensor Flow', 'PhD', 'Python', 'Artificial Intelligence', 'Oracle', 'Spark', 'SAP', 'Azure', 'C++', 'Office', 'CPA', 'Teradata', 'Java', 'Tableau', 'ERP', 'Hadoop', 'Power BI', 'Deep Learning'}\n",
      "Low skills: {'Matlab', 'Fabric', 'Pandas', 'NumPy', 'QuickBooks', 'Jupyter', 'Sage', 'CSS', 'C#', 'SSAS', 'French', 'German', 'Matplotlib', 'PHP', 'Streamlit', 'Russian', 'Rust', 'Power Apps', 'Neural Network', 'Chinese', 'Power Query', 'Seaborn', 'Looker', 'SAP Analytics Cloud', 'Polars', 'DAX', 'Angular', 'MongoDB', 'D3', 'Snaplogic', 'Japanese', 'HTML', 'Salesforce', 'SciKit', 'ABAP', 'DOMO', 'Hyperion', 'Essbase', 'Plotly', 'Cognos', 'CFA', 'Kaggle', 'Chat GPT', 'SSIS', '.NET', 'Power Automate', 'Google Sheets', 'Power Pivot', 'Spanish', 'Navision', 'CMA', 'GitHub', 'Airflow', 'React', 'Qlik', 'Dash', 'SSRS', 'Adobe Analytics'}\n"
     ]
    }
   ],
   "source": [
    "print(f\"High skills: {high_skills}\")\n",
    "print(f\"Low skills: {low_skills}\")"
   ]
  },
  {
   "cell_type": "code",
   "execution_count": 230,
   "id": "54fd3b33-b0c6-43f0-9db4-9534d6189ded",
   "metadata": {},
   "outputs": [],
   "source": [
    "# Create new columns for counting high and low skills\n",
    "def count_skills(skills_list, high_skills, low_skills):\n",
    "    count_high = sum(1 for skill in skills_list if skill in high_skills)\n",
    "    count_low = sum(1 for skill in skills_list if skill in low_skills)\n",
    "    return pd.Series([count_high, count_low])\n",
    "\n",
    "df[['High_skills', 'Low_skills']] = df['Skills'].apply(\n",
    "    lambda skills: count_skills(skills, high_skills, low_skills)\n",
    ")"
   ]
  },
  {
   "cell_type": "code",
   "execution_count": 231,
   "id": "0e37068e-b462-4622-b5ac-182bc99ee29e",
   "metadata": {},
   "outputs": [
    {
     "data": {
      "text/plain": [
       "High_skills\n",
       "3     1887\n",
       "4     1776\n",
       "2     1676\n",
       "5     1647\n",
       "1     1326\n",
       "6     1305\n",
       "7      822\n",
       "8      582\n",
       "9      408\n",
       "0      358\n",
       "10     266\n",
       "11     191\n",
       "12      92\n",
       "13      52\n",
       "14      32\n",
       "15      19\n",
       "16       5\n",
       "17       3\n",
       "18       1\n",
       "Name: count, dtype: int64"
      ]
     },
     "execution_count": 231,
     "metadata": {},
     "output_type": "execute_result"
    }
   ],
   "source": [
    "df['High_skills'].value_counts()"
   ]
  },
  {
   "cell_type": "code",
   "execution_count": 232,
   "id": "93089d38-30dc-4a63-a250-0d37c66628c9",
   "metadata": {},
   "outputs": [],
   "source": [
    "value_counts = df['High_skills'].value_counts()\n",
    "\n",
    "# Step 2: Get skills with counts >= 100\n",
    "valid_skills = value_counts[value_counts >= 100].index\n",
    "\n",
    "# Step 3: Filter the DataFrame\n",
    "df_filtered = df[df['High_skills'].isin(valid_skills)]\n",
    "df=df_filtered"
   ]
  },
  {
   "cell_type": "code",
   "execution_count": 233,
   "id": "01f9cccb-a48a-4e5c-911f-74cca2ee0d66",
   "metadata": {},
   "outputs": [],
   "source": [
    "value_countss = df['Low_skills'].value_counts()\n",
    "\n",
    "# Step 2: Get skills with counts >= 100\n",
    "valid_low_skills = value_countss[value_countss >= 200].index\n",
    "\n",
    "# Step 3: Filter the DataFrame\n",
    "df_filtered = df[df['Low_skills'].isin(valid_low_skills)]\n",
    "df=df_filtered"
   ]
  },
  {
   "cell_type": "code",
   "execution_count": 234,
   "id": "ae01c2fd-4ae0-4396-854e-8ca52cff7c40",
   "metadata": {},
   "outputs": [
    {
     "data": {
      "text/plain": [
       "(11986, 10)"
      ]
     },
     "execution_count": 234,
     "metadata": {},
     "output_type": "execute_result"
    }
   ],
   "source": [
    "df.shape"
   ]
  },
  {
   "cell_type": "code",
   "execution_count": 235,
   "id": "041e3490-82dc-4b3a-8d0c-782e90aa19be",
   "metadata": {},
   "outputs": [],
   "source": [
    "median_salaries = df.groupby('position')['Salary'].median()\n",
    "\n",
    "# Function to assign tenure and total experience based on position, salary and median salary\n",
    "def assign_tenure_total_experience(row):\n",
    "    median_salary = median_salaries[row['position']]\n",
    "    if row['Salary'] < median_salary:\n",
    "        if row['position'] == 'Junior':\n",
    "            tenure = 1\n",
    "            total_experience = 1\n",
    "        elif row['position'] == 'Senior':\n",
    "            tenure = 3\n",
    "            total_experience = 3 + tenure * 0.5\n",
    "        elif row['position'] == 'Lead':\n",
    "            tenure = 5\n",
    "            total_experience = 5 + tenure * 0.5\n",
    "    else:\n",
    "        if row['position'] == 'Junior':\n",
    "            tenure = 2\n",
    "            total_experience = 2 + 1\n",
    "        elif row['position'] == 'Senior':\n",
    "            tenure = 4\n",
    "            total_experience = 4 + tenure * 0.5 + 1\n",
    "        elif row['position'] == 'Lead':\n",
    "            tenure = 6\n",
    "            total_experience = 6 + tenure * 0.5 + 2\n",
    "    return pd.Series([tenure, total_experience])\n",
    "\n",
    "# Apply function to create new columns\n",
    "df[['Tenure', 'Total_Experience']] = df.apply(assign_tenure_total_experience, axis=1)"
   ]
  },
  {
   "cell_type": "code",
   "execution_count": 236,
   "id": "40e1b9ad-fd23-4bce-88aa-4b7e6875db07",
   "metadata": {},
   "outputs": [],
   "source": [
    "df['Tenure'] = df['Tenure'].astype(int)\n",
    "df['Total_Experience'] = df['Total_Experience'].astype(int)"
   ]
  },
  {
   "cell_type": "code",
   "execution_count": 237,
   "id": "476baa04-1422-4a16-a5d7-dee29bf3116e",
   "metadata": {},
   "outputs": [],
   "source": [
    "def determine_employment_type(row):\n",
    "    if row['Job_Title'] in ['Data Scientist', 'ML/AI Engineer', 'CFO', 'Financial Analyst', 'Data Engineer']:\n",
    "        if row['position'] in ['Senior', 'Lead'] and row['Tenure'] > 1:\n",
    "            return 'Full-Time'\n",
    "        elif row['Tenure'] <= 1 and row['Total_Experience'] > 2:\n",
    "            return 'Contract'\n",
    "    elif row['position'] in ['Junior'] and row['Tenure'] < 1:\n",
    "        return 'Part-Time'\n",
    "    elif row['Job_Title'] in ['Business Intelligence', 'Operations Analyst', 'Analyst'] and row['Tenure'] <= 1:\n",
    "        return 'Contract'\n",
    "    else:\n",
    "        return 'Others'\n",
    "\n",
    "# Apply the function to create the Employment_Type column\n",
    "df['Employment_Type'] = df.apply(determine_employment_type, axis=1)\n"
   ]
  },
  {
   "cell_type": "code",
   "execution_count": 238,
   "id": "35284be7-93ff-46c6-aeaa-c39e3c0dad3e",
   "metadata": {},
   "outputs": [
    {
     "data": {
      "text/plain": [
       "State\n",
       "CA    1558\n",
       "VA    1335\n",
       "TX     974\n",
       "NY     847\n",
       "WA     839\n",
       "FL     720\n",
       "IL     580\n",
       "NJ     401\n",
       "MD     391\n",
       "NC     328\n",
       "PA     294\n",
       "MO     294\n",
       "MA     289\n",
       "TN     282\n",
       "DC     272\n",
       "CO     260\n",
       "OH     225\n",
       "GA     201\n",
       "DE     180\n",
       "AR     161\n",
       "AZ     132\n",
       "WI     115\n",
       "MN     107\n",
       "CT      99\n",
       "IN      92\n",
       "UT      89\n",
       "RI      79\n",
       "NE      76\n",
       "SC      60\n",
       "NH      51\n",
       "AL      49\n",
       "KY      38\n",
       "OR      38\n",
       "OK      35\n",
       "IA      27\n",
       "NM      20\n",
       "MI      19\n",
       "NV      15\n",
       "KS      15\n",
       "LA      13\n",
       "HI      13\n",
       "ID       7\n",
       "PR       7\n",
       "MS       6\n",
       "SD       5\n",
       "GU       4\n",
       "MT       2\n",
       "ME       2\n",
       "WV       2\n",
       "AK       1\n",
       "ND       1\n",
       "Name: count, dtype: int64"
      ]
     },
     "execution_count": 238,
     "metadata": {},
     "output_type": "execute_result"
    }
   ],
   "source": [
    "df['State'].value_counts()"
   ]
  },
  {
   "cell_type": "code",
   "execution_count": 239,
   "id": "8a0c53c8-abeb-45dd-b54a-9ad9eb1e9ab4",
   "metadata": {},
   "outputs": [
    {
     "data": {
      "text/html": [
       "<div>\n",
       "<style scoped>\n",
       "    .dataframe tbody tr th:only-of-type {\n",
       "        vertical-align: middle;\n",
       "    }\n",
       "\n",
       "    .dataframe tbody tr th {\n",
       "        vertical-align: top;\n",
       "    }\n",
       "\n",
       "    .dataframe thead th {\n",
       "        text-align: right;\n",
       "    }\n",
       "</style>\n",
       "<table border=\"1\" class=\"dataframe\">\n",
       "  <thead>\n",
       "    <tr style=\"text-align: right;\">\n",
       "      <th></th>\n",
       "      <th>Job_Title</th>\n",
       "      <th>position</th>\n",
       "      <th>Work Location</th>\n",
       "      <th>Company</th>\n",
       "      <th>State</th>\n",
       "      <th>Salary</th>\n",
       "      <th>Skills</th>\n",
       "      <th>Job_description</th>\n",
       "      <th>High_skills</th>\n",
       "      <th>Low_skills</th>\n",
       "      <th>Tenure</th>\n",
       "      <th>Total_Experience</th>\n",
       "      <th>Employment_Type</th>\n",
       "    </tr>\n",
       "  </thead>\n",
       "  <tbody>\n",
       "    <tr>\n",
       "      <th>1894</th>\n",
       "      <td>Operations Analyst</td>\n",
       "      <td>Lead</td>\n",
       "      <td>Hybrid</td>\n",
       "      <td>JPMorgan Chase &amp; Co</td>\n",
       "      <td>OH</td>\n",
       "      <td>108175.0</td>\n",
       "      <td>[Tableau, VBA, Access, Excel, Office, SQL]</td>\n",
       "      <td>Develop and implement strategies for operation...</td>\n",
       "      <td>6</td>\n",
       "      <td>0</td>\n",
       "      <td>5</td>\n",
       "      <td>7</td>\n",
       "      <td>Others</td>\n",
       "    </tr>\n",
       "  </tbody>\n",
       "</table>\n",
       "</div>"
      ],
      "text/plain": [
       "               Job_Title position Work Location              Company State  \\\n",
       "1894  Operations Analyst     Lead        Hybrid  JPMorgan Chase & Co    OH   \n",
       "\n",
       "        Salary                                      Skills  \\\n",
       "1894  108175.0  [Tableau, VBA, Access, Excel, Office, SQL]   \n",
       "\n",
       "                                        Job_description  High_skills  \\\n",
       "1894  Develop and implement strategies for operation...            6   \n",
       "\n",
       "      Low_skills  Tenure  Total_Experience Employment_Type  \n",
       "1894           0       5                 7          Others  "
      ]
     },
     "execution_count": 239,
     "metadata": {},
     "output_type": "execute_result"
    }
   ],
   "source": [
    "df.sample()"
   ]
  },
  {
   "cell_type": "code",
   "execution_count": 240,
   "id": "eaa97ad4-613e-4d34-8edc-89f8bd31f09e",
   "metadata": {},
   "outputs": [
    {
     "data": {
      "text/plain": [
       "Job_Title\n",
       "Data Engineer                1900\n",
       "Business Analyst             1865\n",
       "Financial Analyst            1772\n",
       "Data Analyst                 1322\n",
       "Data Scientist               1298\n",
       "ML/AI Engineer                935\n",
       "Analyst                       662\n",
       "Business Intelligence         602\n",
       "Operations Analyst            540\n",
       "Others                        427\n",
       "CFO                           262\n",
       "Controller                    213\n",
       "Finance                       162\n",
       "Statistician/Mathemathics      26\n",
       "Name: count, dtype: int64"
      ]
     },
     "execution_count": 240,
     "metadata": {},
     "output_type": "execute_result"
    }
   ],
   "source": [
    "df['Job_Title'].value_counts()"
   ]
  },
  {
   "cell_type": "code",
   "execution_count": 241,
   "id": "61a1246d-af90-469d-8571-55cdc1a8822e",
   "metadata": {},
   "outputs": [],
   "source": [
    "state_counts = df['State'].value_counts()\n",
    "\n",
    "# Identify states with counts less than 400\n",
    "states_less_than_400 = state_counts[state_counts < 300].index\n",
    "\n",
    "# Identify states with counts between 1000 and 2000\n",
    "states_between_1000_and_2000 = state_counts[(state_counts <= 1700)].index\n",
    "\n",
    "# Ensure there is at least one state with counts between 1000 and 2000\n",
    "if len(states_between_1000_and_2000) == 0:\n",
    "    raise ValueError(\"No states with counts between 1000 and 2000 found.\")\n",
    "\n",
    "# Select one state from the identified states\n",
    "rename_to_state = states_between_1000_and_2000[0]\n",
    "\n",
    "# Rename states with counts less than 400\n",
    "df['State'] = df['State'].apply(lambda x: rename_to_state if x in states_less_than_400 else x)"
   ]
  },
  {
   "cell_type": "code",
   "execution_count": 242,
   "id": "1ff64c72-8883-49fe-a9cc-fc84bfd04838",
   "metadata": {},
   "outputs": [
    {
     "data": {
      "text/html": [
       "<div>\n",
       "<style scoped>\n",
       "    .dataframe tbody tr th:only-of-type {\n",
       "        vertical-align: middle;\n",
       "    }\n",
       "\n",
       "    .dataframe tbody tr th {\n",
       "        vertical-align: top;\n",
       "    }\n",
       "\n",
       "    .dataframe thead th {\n",
       "        text-align: right;\n",
       "    }\n",
       "</style>\n",
       "<table border=\"1\" class=\"dataframe\">\n",
       "  <thead>\n",
       "    <tr style=\"text-align: right;\">\n",
       "      <th></th>\n",
       "      <th>Job_Title</th>\n",
       "      <th>position</th>\n",
       "      <th>Work Location</th>\n",
       "      <th>Company</th>\n",
       "      <th>State</th>\n",
       "      <th>Salary</th>\n",
       "      <th>Skills</th>\n",
       "      <th>Job_description</th>\n",
       "      <th>High_skills</th>\n",
       "      <th>Low_skills</th>\n",
       "      <th>Tenure</th>\n",
       "      <th>Total_Experience</th>\n",
       "      <th>Employment_Type</th>\n",
       "    </tr>\n",
       "  </thead>\n",
       "  <tbody>\n",
       "    <tr>\n",
       "      <th>69970</th>\n",
       "      <td>ML/AI Engineer</td>\n",
       "      <td>Senior</td>\n",
       "      <td>NaN</td>\n",
       "      <td>Apple</td>\n",
       "      <td>WA</td>\n",
       "      <td>126501.0</td>\n",
       "      <td>[Python, Tensor Flow, Master, Access, Bachelor]</td>\n",
       "      <td>Develop and maintain AI systems and applications.</td>\n",
       "      <td>5</td>\n",
       "      <td>0</td>\n",
       "      <td>4</td>\n",
       "      <td>7</td>\n",
       "      <td>Full-Time</td>\n",
       "    </tr>\n",
       "  </tbody>\n",
       "</table>\n",
       "</div>"
      ],
      "text/plain": [
       "            Job_Title position Work Location Company State    Salary  \\\n",
       "69970  ML/AI Engineer   Senior           NaN   Apple    WA  126501.0   \n",
       "\n",
       "                                                Skills  \\\n",
       "69970  [Python, Tensor Flow, Master, Access, Bachelor]   \n",
       "\n",
       "                                         Job_description  High_skills  \\\n",
       "69970  Develop and maintain AI systems and applications.            5   \n",
       "\n",
       "       Low_skills  Tenure  Total_Experience Employment_Type  \n",
       "69970           0       4                 7       Full-Time  "
      ]
     },
     "execution_count": 242,
     "metadata": {},
     "output_type": "execute_result"
    }
   ],
   "source": [
    "df.sample(1)"
   ]
  },
  {
   "cell_type": "code",
   "execution_count": 243,
   "id": "943a1f72-8012-4972-9847-de38a2229ee0",
   "metadata": {},
   "outputs": [
    {
     "data": {
      "text/plain": [
       "Low_skills\n",
       "0    9530\n",
       "1    1946\n",
       "2     510\n",
       "Name: count, dtype: int64"
      ]
     },
     "execution_count": 243,
     "metadata": {},
     "output_type": "execute_result"
    }
   ],
   "source": [
    "df['Low_skills'].value_counts()"
   ]
  },
  {
   "cell_type": "markdown",
   "id": "94a1c08e-7f52-43f4-8293-517a131f6617",
   "metadata": {},
   "source": [
    "### Removing outlier in Salary"
   ]
  },
  {
   "cell_type": "code",
   "execution_count": 244,
   "id": "d51ce1ef-8ba5-4aa6-9de0-d7d6a07f30b1",
   "metadata": {},
   "outputs": [
    {
     "data": {
      "image/png": "[encoded data removed]",
      "text/plain": [
       "<Figure size 1000x500 with 1 Axes>"
      ]
     },
     "metadata": {},
     "output_type": "display_data"
    },
    {
     "data": {
      "image/png": "[encoded data removed]",
      "text/plain": [
       "<Figure size 1000x500 with 1 Axes>"
      ]
     },
     "metadata": {},
     "output_type": "display_data"
    }
   ],
   "source": [
    "def remove_outliers(df, column):\n",
    "    Q1 = df[column].quantile(0.25)\n",
    "    Q3 = df[column].quantile(0.75)\n",
    "    IQR = Q3 - Q1\n",
    "    lower_bound = Q1 - 1.5 * IQR\n",
    "    upper_bound = Q3 + 1.5 * IQR\n",
    "    df_out = df[(df[column] >= lower_bound) & (df[column] <= upper_bound)]\n",
    "    return df_out\n",
    "\n",
    "# Plotting function for boxplots\n",
    "def plot_boxplots(df, columns, title):\n",
    "    plt.figure(figsize=(10, 5))\n",
    "    for i, column in enumerate(columns):\n",
    "        plt.subplot(1, len(columns), i + 1)\n",
    "        plt.boxplot(df[column])\n",
    "        plt.title(f'{column} {title}')\n",
    "    plt.tight_layout()\n",
    "    plt.show()\n",
    "\n",
    "# Boxplot before removing outliers\n",
    "plot_boxplots(df, ['Salary'], 'Before Removing Outliers')\n",
    "\n",
    "# Remove outliers from Salary and Rating columns\n",
    "df_no_outliers = remove_outliers(df, 'Salary')\n",
    "\n",
    "\n",
    "# Boxplot after removing outliers\n",
    "plot_boxplots(df_no_outliers, ['Salary'], 'After Removing Outliers')\n",
    "\n"
   ]
  },
  {
   "cell_type": "code",
   "execution_count": 245,
   "id": "b0a778ed-6e3f-4490-9a5a-83efeb2f7481",
   "metadata": {},
   "outputs": [],
   "source": [
    "df=df_no_outliers"
   ]
  },
  {
   "cell_type": "markdown",
   "id": "4c2dbe07-994a-45f0-9fdf-259b12359445",
   "metadata": {},
   "source": [
    "### Pre Processing Text"
   ]
  },
  {
   "cell_type": "code",
   "execution_count": 246,
   "id": "020c819f-900f-4756-9016-dde9de0e0303",
   "metadata": {},
   "outputs": [
    {
     "data": {
      "text/plain": [
       "20243    Develop business requirements and functional s...\n",
       "Name: Job_description, dtype: object"
      ]
     },
     "execution_count": 246,
     "metadata": {},
     "output_type": "execute_result"
    }
   ],
   "source": [
    "df['Job_description'].sample(1)"
   ]
  },
  {
   "cell_type": "code",
   "execution_count": 247,
   "id": "526153fb-0e57-467a-a839-9db0dfae2128",
   "metadata": {},
   "outputs": [],
   "source": [
    "import pandas as pd\n",
    "from sklearn.feature_extraction.text import TfidfVectorizer\n",
    "from sklearn.ensemble import RandomForestRegressor\n",
    "from sklearn.model_selection import train_test_split\n",
    "import re\n",
    "import nltk\n",
    "from nltk.corpus import stopwords\n",
    "from nltk.stem import WordNetLemmatizer\n"
   ]
  },
  {
   "cell_type": "code",
   "execution_count": 248,
   "id": "1030212a-a756-4cfe-a9c6-6d99602f811a",
   "metadata": {},
   "outputs": [
    {
     "name": "stderr",
     "output_type": "stream",
     "text": [
      "[nltk_data] Downloading package stopwords to\n",
      "[nltk_data]     C:\\Users\\vishn\\AppData\\Roaming\\nltk_data...\n",
      "[nltk_data]   Package stopwords is already up-to-date!\n",
      "[nltk_data] Downloading package wordnet to\n",
      "[nltk_data]     C:\\Users\\vishn\\AppData\\Roaming\\nltk_data...\n",
      "[nltk_data]   Package wordnet is already up-to-date!\n"
     ]
    }
   ],
   "source": [
    "# Text Preprocessing\n",
    "nltk.download('stopwords')\n",
    "nltk.download('wordnet')\n",
    "stop_words = set(stopwords.words('english'))\n",
    "lemmatizer = WordNetLemmatizer()\n"
   ]
  },
  {
   "cell_type": "code",
   "execution_count": 249,
   "id": "5e3c2fcd-f47a-4877-806c-9da9099c0adf",
   "metadata": {},
   "outputs": [
    {
     "name": "stderr",
     "output_type": "stream",
     "text": [
      "C:\\Users\\vishn\\AppData\\Local\\Temp\\ipykernel_18484\\790894793.py:8: SettingWithCopyWarning: \n",
      "A value is trying to be set on a copy of a slice from a DataFrame.\n",
      "Try using .loc[row_indexer,col_indexer] = value instead\n",
      "\n",
      "See the caveats in the documentation: https://pandas.pydata.org/pandas-docs/stable/user_guide/indexing.html#returning-a-view-versus-a-copy\n",
      "  df['cleaned_job_description'] = df['Job_description'].apply(preprocess_text)\n"
     ]
    }
   ],
   "source": [
    "def preprocess_text(text):\n",
    "    text = text.lower()  # Lowercase\n",
    "    text = re.sub(r'[^\\w\\s]', '', text)  # Remove punctuation\n",
    "    tokens = text.split()\n",
    "    tokens = [lemmatizer.lemmatize(word) for word in tokens if word not in stop_words]  # Remove stop words and lemmatize\n",
    "    return ' '.join(tokens)\n",
    "\n",
    "df['cleaned_job_description'] = df['Job_description'].apply(preprocess_text)\n"
   ]
  },
  {
   "cell_type": "code",
   "execution_count": 250,
   "id": "fe18a61b-076f-4c03-83d5-73267db95a6d",
   "metadata": {},
   "outputs": [],
   "source": [
    "# Feature Extraction using TF-IDF\n",
    "tfidf = TfidfVectorizer(max_features=100)  # Limiting to top 100 features for simplicity\n",
    "X_tfidf = tfidf.fit_transform(df['cleaned_job_description']).toarray()\n"
   ]
  },
  {
   "cell_type": "code",
   "execution_count": 251,
   "id": "1aa2d038-89fb-4458-962c-83b63fe658be",
   "metadata": {},
   "outputs": [],
   "source": [
    "# Adding extracted features to DataFrame\n",
    "tfidf_df = pd.DataFrame(X_tfidf, columns=tfidf.get_feature_names_out())"
   ]
  },
  {
   "cell_type": "code",
   "execution_count": 252,
   "id": "bd713e8d-ca37-4fc7-a608-7efe903df36f",
   "metadata": {},
   "outputs": [
    {
     "data": {
      "text/html": [
       "<div>\n",
       "<style scoped>\n",
       "    .dataframe tbody tr th:only-of-type {\n",
       "        vertical-align: middle;\n",
       "    }\n",
       "\n",
       "    .dataframe tbody tr th {\n",
       "        vertical-align: top;\n",
       "    }\n",
       "\n",
       "    .dataframe thead th {\n",
       "        text-align: right;\n",
       "    }\n",
       "</style>\n",
       "<table border=\"1\" class=\"dataframe\">\n",
       "  <thead>\n",
       "    <tr style=\"text-align: right;\">\n",
       "      <th></th>\n",
       "      <th>Job_Title</th>\n",
       "      <th>position</th>\n",
       "      <th>Work Location</th>\n",
       "      <th>Company</th>\n",
       "      <th>State</th>\n",
       "      <th>Salary</th>\n",
       "      <th>Skills</th>\n",
       "      <th>Job_description</th>\n",
       "      <th>High_skills</th>\n",
       "      <th>Low_skills</th>\n",
       "      <th>Tenure</th>\n",
       "      <th>Total_Experience</th>\n",
       "      <th>Employment_Type</th>\n",
       "      <th>cleaned_job_description</th>\n",
       "    </tr>\n",
       "  </thead>\n",
       "  <tbody>\n",
       "    <tr>\n",
       "      <th>51487</th>\n",
       "      <td>Analyst</td>\n",
       "      <td>Lead</td>\n",
       "      <td>NaN</td>\n",
       "      <td>NYC Careers</td>\n",
       "      <td>NY</td>\n",
       "      <td>85749.6</td>\n",
       "      <td>[Access, HTML]</td>\n",
       "      <td>Identify trends and anomalies in data sets.</td>\n",
       "      <td>1</td>\n",
       "      <td>1</td>\n",
       "      <td>5</td>\n",
       "      <td>7</td>\n",
       "      <td>Others</td>\n",
       "      <td>identify trend anomaly data set</td>\n",
       "    </tr>\n",
       "  </tbody>\n",
       "</table>\n",
       "</div>"
      ],
      "text/plain": [
       "      Job_Title position Work Location      Company State   Salary  \\\n",
       "51487   Analyst     Lead           NaN  NYC Careers    NY  85749.6   \n",
       "\n",
       "               Skills                              Job_description  \\\n",
       "51487  [Access, HTML]  Identify trends and anomalies in data sets.   \n",
       "\n",
       "       High_skills  Low_skills  Tenure  Total_Experience Employment_Type  \\\n",
       "51487            1           1       5                 7          Others   \n",
       "\n",
       "               cleaned_job_description  \n",
       "51487  identify trend anomaly data set  "
      ]
     },
     "execution_count": 252,
     "metadata": {},
     "output_type": "execute_result"
    }
   ],
   "source": [
    "df.sample()"
   ]
  },
  {
   "cell_type": "code",
   "execution_count": 253,
   "id": "bdbebadc-9761-444c-891f-aadbcfe78def",
   "metadata": {},
   "outputs": [
    {
     "data": {
      "text/plain": [
       "Job_Title                     0\n",
       "position                      0\n",
       "Work Location              7851\n",
       "Company                       0\n",
       "State                       334\n",
       "Salary                        0\n",
       "Skills                        0\n",
       "Job_description               0\n",
       "High_skills                   0\n",
       "Low_skills                    0\n",
       "Tenure                        0\n",
       "Total_Experience              0\n",
       "Employment_Type             231\n",
       "cleaned_job_description       0\n",
       "dtype: int64"
      ]
     },
     "execution_count": 253,
     "metadata": {},
     "output_type": "execute_result"
    }
   ],
   "source": [
    "df.isnull().sum()"
   ]
  },
  {
   "cell_type": "markdown",
   "id": "573a24d1-46c3-457a-b10f-0c305682a872",
   "metadata": {},
   "source": [
    "### Id feature follows Normal distribution use(standardisation)"
   ]
  },
  {
   "cell_type": "code",
   "execution_count": 254,
   "id": "63697d01-abc7-4d59-a133-34e2ac98cfa4",
   "metadata": {},
   "outputs": [
    {
     "name": "stdout",
     "output_type": "stream",
     "text": [
      "0.5182755920936875\n",
      "-0.22531818102301981\n"
     ]
    }
   ],
   "source": [
    "# Calculate skewness and kurtosis for the temporary DataFrame\n",
    "original_skewness = stats.skew(df['Salary'])\n",
    "print(original_skewness)\n",
    "original_kurtosis = stats.kurtosis(df['Salary'])\n",
    "print(original_kurtosis)"
   ]
  },
  {
   "cell_type": "code",
   "execution_count": 255,
   "id": "6e523061-88fa-48fb-8ef3-8bddf1421871",
   "metadata": {},
   "outputs": [
    {
     "data": {
      "image/png": "[encoded data removed]",
      "text/plain": [
       "<Figure size 800x600 with 1 Axes>"
      ]
     },
     "metadata": {},
     "output_type": "display_data"
    }
   ],
   "source": [
    "plt.figure(figsize=(8, 6))\n",
    "stats.probplot(df['Salary'], dist=\"norm\", plot=plt)\n",
    "plt.title('Q-Q Plot of Salary')\n",
    "plt.xlabel('Theoretical Quantiles')\n",
    "plt.ylabel('Sample Quantiles')\n",
    "plt.show()"
   ]
  },
  {
   "cell_type": "code",
   "execution_count": 256,
   "id": "2886cf1f-eb06-4fb9-808f-a218c40426f3",
   "metadata": {},
   "outputs": [
    {
     "name": "stderr",
     "output_type": "stream",
     "text": [
      "C:\\Users\\vishn\\AppData\\Local\\Temp\\ipykernel_18484\\1523884800.py:3: SettingWithCopyWarning: \n",
      "A value is trying to be set on a copy of a slice from a DataFrame.\n",
      "Try using .loc[row_indexer,col_indexer] = value instead\n",
      "\n",
      "See the caveats in the documentation: https://pandas.pydata.org/pandas-docs/stable/user_guide/indexing.html#returning-a-view-versus-a-copy\n",
      "  df['Salary'] = Scaler_sal.fit_transform(df[['Salary']])\n"
     ]
    },
    {
     "data": {
      "text/plain": [
       "['Salary_scale.pkl']"
      ]
     },
     "execution_count": 256,
     "metadata": {},
     "output_type": "execute_result"
    }
   ],
   "source": [
    "import joblib\n",
    "Scaler_sal = MinMaxScaler()\n",
    "df['Salary'] = Scaler_sal.fit_transform(df[['Salary']])\n",
    "\n",
    "# Save the scaler for later use\n",
    "joblib.dump(Scaler_sal, 'Salary_scale.pkl')"
   ]
  },
  {
   "cell_type": "code",
   "execution_count": 257,
   "id": "408c84c9-0d14-495f-a34f-ade0e4b66859",
   "metadata": {},
   "outputs": [
    {
     "name": "stderr",
     "output_type": "stream",
     "text": [
      "C:\\Users\\vishn\\AppData\\Local\\Temp\\ipykernel_18484\\716991468.py:12: SettingWithCopyWarning: \n",
      "A value is trying to be set on a copy of a slice from a DataFrame.\n",
      "Try using .loc[row_indexer,col_indexer] = value instead\n",
      "\n",
      "See the caveats in the documentation: https://pandas.pydata.org/pandas-docs/stable/user_guide/indexing.html#returning-a-view-versus-a-copy\n",
      "  df['Company_Encoded'] = df_encoded['Company']\n",
      "C:\\Users\\vishn\\AppData\\Local\\Temp\\ipykernel_18484\\716991468.py:15: SettingWithCopyWarning: \n",
      "A value is trying to be set on a copy of a slice from a DataFrame\n",
      "\n",
      "See the caveats in the documentation: https://pandas.pydata.org/pandas-docs/stable/user_guide/indexing.html#returning-a-view-versus-a-copy\n",
      "  df.drop('Company', axis=1, inplace=True)\n"
     ]
    }
   ],
   "source": [
    "import category_encoders as ce\n",
    "\n",
    "encoder = ce.TargetEncoder(cols=['Company'])\n",
    "\n",
    "# Fit the encoder on the training data\n",
    "encoder.fit(df['Company'], df['Salary'])\n",
    "\n",
    "# Transform the 'Company' column\n",
    "df_encoded = encoder.transform(df['Company'])\n",
    "\n",
    "# Replace the original 'Company' column with the encoded values\n",
    "df['Company_Encoded'] = df_encoded['Company']\n",
    "\n",
    "# Optionally, you can drop the original 'Company' column if no longer needed\n",
    "df.drop('Company', axis=1, inplace=True)"
   ]
  },
  {
   "cell_type": "code",
   "execution_count": 258,
   "id": "93fba784-192e-4a00-b377-b183c41b2b1e",
   "metadata": {},
   "outputs": [
    {
     "data": {
      "text/plain": [
       "['company_target_encoder.pkl']"
      ]
     },
     "execution_count": 258,
     "metadata": {},
     "output_type": "execute_result"
    }
   ],
   "source": [
    "joblib.dump(encoder, 'company_target_encoder.pkl')"
   ]
  },
  {
   "cell_type": "code",
   "execution_count": 259,
   "id": "edb66f13-b2c4-4a09-a3f0-30a17c3d6c4b",
   "metadata": {},
   "outputs": [],
   "source": [
    "# Splitting data into train and test sets\n",
    "X_text = tfidf_df\n",
    "y_text = df['Salary']\n",
    "X_tex, X_tex, y_tex, y_tex = train_test_split(X_text, y_text, test_size=0.2, random_state=42)\n"
   ]
  },
  {
   "cell_type": "code",
   "execution_count": 260,
   "id": "d1741636-fb56-4c25-99aa-c18a96f82227",
   "metadata": {},
   "outputs": [],
   "source": [
    "# Training the Regression Model\n",
    "model = RandomForestRegressor()\n",
    "model.fit(X_tex, y_tex)\n",
    "# Analyzing Feature Importances\n",
    "feature_importances = model.feature_importances_\n",
    "feature_names = X_text.columns\n"
   ]
  },
  {
   "cell_type": "code",
   "execution_count": 261,
   "id": "2150805f-f8ce-41e0-b969-4d49dc6024bb",
   "metadata": {},
   "outputs": [],
   "source": [
    "# Create a DataFrame for feature importances\n",
    "feature_importances_df = pd.DataFrame({'feature': feature_names, 'importance': feature_importances})\n",
    "\n",
    "# Select top 3 features\n",
    "top_features = feature_importances_df.nlargest(3, 'importance')['feature'].tolist()\n",
    "# Extract the top 3 features from the TF-IDF DataFrame\n",
    "top_features_df = tfidf_df[top_features]\n"
   ]
  },
  {
   "cell_type": "code",
   "execution_count": 262,
   "id": "6737b01a-1943-4777-b4d1-1462981bcf5f",
   "metadata": {},
   "outputs": [
    {
     "data": {
      "text/html": [
       "<div>\n",
       "<style scoped>\n",
       "    .dataframe tbody tr th:only-of-type {\n",
       "        vertical-align: middle;\n",
       "    }\n",
       "\n",
       "    .dataframe tbody tr th {\n",
       "        vertical-align: top;\n",
       "    }\n",
       "\n",
       "    .dataframe thead th {\n",
       "        text-align: right;\n",
       "    }\n",
       "</style>\n",
       "<table border=\"1\" class=\"dataframe\">\n",
       "  <thead>\n",
       "    <tr style=\"text-align: right;\">\n",
       "      <th></th>\n",
       "      <th>data</th>\n",
       "      <th>ai</th>\n",
       "      <th>financial</th>\n",
       "    </tr>\n",
       "  </thead>\n",
       "  <tbody>\n",
       "    <tr>\n",
       "      <th>0</th>\n",
       "      <td>0.000000</td>\n",
       "      <td>0.0</td>\n",
       "      <td>0.000000</td>\n",
       "    </tr>\n",
       "    <tr>\n",
       "      <th>1</th>\n",
       "      <td>0.000000</td>\n",
       "      <td>0.0</td>\n",
       "      <td>0.000000</td>\n",
       "    </tr>\n",
       "    <tr>\n",
       "      <th>2</th>\n",
       "      <td>0.000000</td>\n",
       "      <td>0.0</td>\n",
       "      <td>0.000000</td>\n",
       "    </tr>\n",
       "    <tr>\n",
       "      <th>3</th>\n",
       "      <td>0.000000</td>\n",
       "      <td>0.0</td>\n",
       "      <td>0.000000</td>\n",
       "    </tr>\n",
       "    <tr>\n",
       "      <th>4</th>\n",
       "      <td>0.000000</td>\n",
       "      <td>0.0</td>\n",
       "      <td>0.000000</td>\n",
       "    </tr>\n",
       "    <tr>\n",
       "      <th>...</th>\n",
       "      <td>...</td>\n",
       "      <td>...</td>\n",
       "      <td>...</td>\n",
       "    </tr>\n",
       "    <tr>\n",
       "      <th>11741</th>\n",
       "      <td>0.000000</td>\n",
       "      <td>0.0</td>\n",
       "      <td>0.000000</td>\n",
       "    </tr>\n",
       "    <tr>\n",
       "      <th>11742</th>\n",
       "      <td>0.226624</td>\n",
       "      <td>0.0</td>\n",
       "      <td>0.679229</td>\n",
       "    </tr>\n",
       "    <tr>\n",
       "      <th>11743</th>\n",
       "      <td>0.000000</td>\n",
       "      <td>0.0</td>\n",
       "      <td>0.000000</td>\n",
       "    </tr>\n",
       "    <tr>\n",
       "      <th>11744</th>\n",
       "      <td>0.000000</td>\n",
       "      <td>0.0</td>\n",
       "      <td>1.000000</td>\n",
       "    </tr>\n",
       "    <tr>\n",
       "      <th>11745</th>\n",
       "      <td>0.000000</td>\n",
       "      <td>0.0</td>\n",
       "      <td>0.491933</td>\n",
       "    </tr>\n",
       "  </tbody>\n",
       "</table>\n",
       "<p>11746 rows × 3 columns</p>\n",
       "</div>"
      ],
      "text/plain": [
       "           data   ai  financial\n",
       "0      0.000000  0.0   0.000000\n",
       "1      0.000000  0.0   0.000000\n",
       "2      0.000000  0.0   0.000000\n",
       "3      0.000000  0.0   0.000000\n",
       "4      0.000000  0.0   0.000000\n",
       "...         ...  ...        ...\n",
       "11741  0.000000  0.0   0.000000\n",
       "11742  0.226624  0.0   0.679229\n",
       "11743  0.000000  0.0   0.000000\n",
       "11744  0.000000  0.0   1.000000\n",
       "11745  0.000000  0.0   0.491933\n",
       "\n",
       "[11746 rows x 3 columns]"
      ]
     },
     "execution_count": 262,
     "metadata": {},
     "output_type": "execute_result"
    }
   ],
   "source": [
    "top_features_df"
   ]
  },
  {
   "cell_type": "raw",
   "id": "cd42d5f5-496a-4df1-8372-c4ffe44ee008",
   "metadata": {},
   "source": [
    "# Concatenate the top features back to the original DataFrame\n",
    "df_with_top_features = pd.concat([df, top_features_df], axis=1)\n",
    "df=df_with_top_features"
   ]
  },
  {
   "cell_type": "code",
   "execution_count": 263,
   "id": "d3c3114a-fbab-41b6-91b9-76cac36fe898",
   "metadata": {},
   "outputs": [
    {
     "name": "stderr",
     "output_type": "stream",
     "text": [
      "C:\\Users\\vishn\\AppData\\Local\\Temp\\ipykernel_18484\\288658881.py:1: SettingWithCopyWarning: \n",
      "A value is trying to be set on a copy of a slice from a DataFrame\n",
      "\n",
      "See the caveats in the documentation: https://pandas.pydata.org/pandas-docs/stable/user_guide/indexing.html#returning-a-view-versus-a-copy\n",
      "  df.drop(columns=['Job_description', 'Employment_Type','Skills', 'Work Location','cleaned_job_description'],inplace=True)\n"
     ]
    }
   ],
   "source": [
    "df.drop(columns=['Job_description', 'Employment_Type','Skills', 'Work Location','cleaned_job_description'],inplace=True)"
   ]
  },
  {
   "cell_type": "code",
   "execution_count": 264,
   "id": "c25e9dce-b622-441f-8c01-b10db0247d0b",
   "metadata": {},
   "outputs": [
    {
     "data": {
      "text/html": [
       "<div>\n",
       "<style scoped>\n",
       "    .dataframe tbody tr th:only-of-type {\n",
       "        vertical-align: middle;\n",
       "    }\n",
       "\n",
       "    .dataframe tbody tr th {\n",
       "        vertical-align: top;\n",
       "    }\n",
       "\n",
       "    .dataframe thead th {\n",
       "        text-align: right;\n",
       "    }\n",
       "</style>\n",
       "<table border=\"1\" class=\"dataframe\">\n",
       "  <thead>\n",
       "    <tr style=\"text-align: right;\">\n",
       "      <th></th>\n",
       "      <th>Job_Title</th>\n",
       "      <th>position</th>\n",
       "      <th>State</th>\n",
       "      <th>Salary</th>\n",
       "      <th>High_skills</th>\n",
       "      <th>Low_skills</th>\n",
       "      <th>Tenure</th>\n",
       "      <th>Total_Experience</th>\n",
       "      <th>Company_Encoded</th>\n",
       "    </tr>\n",
       "  </thead>\n",
       "  <tbody>\n",
       "    <tr>\n",
       "      <th>43405</th>\n",
       "      <td>Data Analyst</td>\n",
       "      <td>Lead</td>\n",
       "      <td>NY</td>\n",
       "      <td>0.266615</td>\n",
       "      <td>9</td>\n",
       "      <td>0</td>\n",
       "      <td>5</td>\n",
       "      <td>7</td>\n",
       "      <td>0.381946</td>\n",
       "    </tr>\n",
       "  </tbody>\n",
       "</table>\n",
       "</div>"
      ],
      "text/plain": [
       "          Job_Title position State    Salary  High_skills  Low_skills  Tenure  \\\n",
       "43405  Data Analyst     Lead    NY  0.266615            9           0       5   \n",
       "\n",
       "       Total_Experience  Company_Encoded  \n",
       "43405                 7         0.381946  "
      ]
     },
     "execution_count": 264,
     "metadata": {},
     "output_type": "execute_result"
    }
   ],
   "source": [
    "df.sample()"
   ]
  },
  {
   "cell_type": "code",
   "execution_count": 265,
   "id": "a419e596-6f68-4645-8fe8-7de859d2cf75",
   "metadata": {},
   "outputs": [
    {
     "data": {
      "text/plain": [
       "array(['Senior', 'Lead', 'Junior'], dtype=object)"
      ]
     },
     "execution_count": 265,
     "metadata": {},
     "output_type": "execute_result"
    }
   ],
   "source": [
    "df['position'].unique()"
   ]
  },
  {
   "cell_type": "markdown",
   "id": "e8a8fa85-4576-49bb-8426-f5b51f3e3728",
   "metadata": {},
   "source": [
    "### Artificial Neural network"
   ]
  },
  {
   "cell_type": "markdown",
   "id": "d443033b-ae3e-4c73-9eac-cbb75dc8ed65",
   "metadata": {},
   "source": [
    "#### Label Encoder"
   ]
  },
  {
   "cell_type": "code",
   "execution_count": 266,
   "id": "3f6b76c5-aafc-497d-83cc-82b161442beb",
   "metadata": {},
   "outputs": [
    {
     "name": "stderr",
     "output_type": "stream",
     "text": [
      "C:\\Users\\vishn\\AppData\\Local\\Temp\\ipykernel_18484\\2073208081.py:9: SettingWithCopyWarning: \n",
      "A value is trying to be set on a copy of a slice from a DataFrame.\n",
      "Try using .loc[row_indexer,col_indexer] = value instead\n",
      "\n",
      "See the caveats in the documentation: https://pandas.pydata.org/pandas-docs/stable/user_guide/indexing.html#returning-a-view-versus-a-copy\n",
      "  df[column] = le.fit_transform(df[column])\n",
      "C:\\Users\\vishn\\AppData\\Local\\Temp\\ipykernel_18484\\2073208081.py:9: SettingWithCopyWarning: \n",
      "A value is trying to be set on a copy of a slice from a DataFrame.\n",
      "Try using .loc[row_indexer,col_indexer] = value instead\n",
      "\n",
      "See the caveats in the documentation: https://pandas.pydata.org/pandas-docs/stable/user_guide/indexing.html#returning-a-view-versus-a-copy\n",
      "  df[column] = le.fit_transform(df[column])\n",
      "C:\\Users\\vishn\\AppData\\Local\\Temp\\ipykernel_18484\\2073208081.py:9: SettingWithCopyWarning: \n",
      "A value is trying to be set on a copy of a slice from a DataFrame.\n",
      "Try using .loc[row_indexer,col_indexer] = value instead\n",
      "\n",
      "See the caveats in the documentation: https://pandas.pydata.org/pandas-docs/stable/user_guide/indexing.html#returning-a-view-versus-a-copy\n",
      "  df[column] = le.fit_transform(df[column])\n"
     ]
    },
    {
     "data": {
      "text/plain": [
       "['label_encoders.pkl']"
      ]
     },
     "execution_count": 266,
     "metadata": {},
     "output_type": "execute_result"
    }
   ],
   "source": [
    "columns_to_encode = ['Job_Title','position','State']\n",
    "\n",
    "# Initialize a dictionary to store encoders\n",
    "encoders = {}\n",
    "\n",
    "# Encode each column\n",
    "for column in columns_to_encode:\n",
    "    le = LabelEncoder()\n",
    "    df[column] = le.fit_transform(df[column])\n",
    "    encoders[column] = le  # Save the encoder for future use\n",
    "\n",
    "# Save all encoders in a single file\n",
    "joblib.dump(encoders, 'label_encoders.pkl')"
   ]
  },
  {
   "cell_type": "code",
   "execution_count": 267,
   "id": "4a789352-a6b4-403c-97f1-d22c715a8722",
   "metadata": {},
   "outputs": [
    {
     "name": "stderr",
     "output_type": "stream",
     "text": [
      "C:\\Users\\vishn\\AppData\\Local\\Temp\\ipykernel_18484\\3265737577.py:7: SettingWithCopyWarning: \n",
      "A value is trying to be set on a copy of a slice from a DataFrame.\n",
      "Try using .loc[row_indexer,col_indexer] = value instead\n",
      "\n",
      "See the caveats in the documentation: https://pandas.pydata.org/pandas-docs/stable/user_guide/indexing.html#returning-a-view-versus-a-copy\n",
      "  df[numerical_cols] = scaler.fit_transform(df[numerical_cols])\n"
     ]
    },
    {
     "data": {
      "text/plain": [
       "['MinMaxScaler.pkl']"
      ]
     },
     "execution_count": 267,
     "metadata": {},
     "output_type": "execute_result"
    }
   ],
   "source": [
    "numerical_cols = ['Job_Title','position','State','High_skills', 'Low_skills', 'Tenure', 'Total_Experience','Company_Encoded']\n",
    "\n",
    "# Initialize MinMaxScaler\n",
    "scaler = MinMaxScaler()\n",
    "\n",
    "# Apply MinMaxScaler to the numerical columns\n",
    "df[numerical_cols] = scaler.fit_transform(df[numerical_cols])\n",
    "\n",
    "joblib.dump(scaler, 'MinMaxScaler.pkl')"
   ]
  },
  {
   "cell_type": "code",
   "execution_count": 268,
   "id": "ecc10478-eafb-4f7d-bf17-23139e7f2391",
   "metadata": {},
   "outputs": [
    {
     "data": {
      "text/html": [
       "<div>\n",
       "<style scoped>\n",
       "    .dataframe tbody tr th:only-of-type {\n",
       "        vertical-align: middle;\n",
       "    }\n",
       "\n",
       "    .dataframe tbody tr th {\n",
       "        vertical-align: top;\n",
       "    }\n",
       "\n",
       "    .dataframe thead th {\n",
       "        text-align: right;\n",
       "    }\n",
       "</style>\n",
       "<table border=\"1\" class=\"dataframe\">\n",
       "  <thead>\n",
       "    <tr style=\"text-align: right;\">\n",
       "      <th></th>\n",
       "      <th>Job_Title</th>\n",
       "      <th>position</th>\n",
       "      <th>State</th>\n",
       "      <th>Salary</th>\n",
       "      <th>High_skills</th>\n",
       "      <th>Low_skills</th>\n",
       "      <th>Tenure</th>\n",
       "      <th>Total_Experience</th>\n",
       "      <th>Company_Encoded</th>\n",
       "    </tr>\n",
       "  </thead>\n",
       "  <tbody>\n",
       "    <tr>\n",
       "      <th>133861</th>\n",
       "      <td>0.692308</td>\n",
       "      <td>1.0</td>\n",
       "      <td>0.0</td>\n",
       "      <td>0.319056</td>\n",
       "      <td>0.545455</td>\n",
       "      <td>1.0</td>\n",
       "      <td>0.4</td>\n",
       "      <td>0.3</td>\n",
       "      <td>0.593318</td>\n",
       "    </tr>\n",
       "  </tbody>\n",
       "</table>\n",
       "</div>"
      ],
      "text/plain": [
       "        Job_Title  position  State    Salary  High_skills  Low_skills  Tenure  \\\n",
       "133861   0.692308       1.0    0.0  0.319056     0.545455         1.0     0.4   \n",
       "\n",
       "        Total_Experience  Company_Encoded  \n",
       "133861               0.3         0.593318  "
      ]
     },
     "execution_count": 268,
     "metadata": {},
     "output_type": "execute_result"
    }
   ],
   "source": [
    "df.sample()"
   ]
  },
  {
   "cell_type": "code",
   "execution_count": 269,
   "id": "7b4d6e66-0614-430a-9e03-88771962c5c3",
   "metadata": {},
   "outputs": [],
   "source": [
    "X = df[['Job_Title','position','Company_Encoded','State', 'High_skills', 'Low_skills', 'Tenure','Total_Experience']]  # Features\n",
    "y = df['Salary']  # Target variable"
   ]
  },
  {
   "cell_type": "code",
   "execution_count": 270,
   "id": "a6e71935-a8fc-4206-b5c2-13ec9cd90f73",
   "metadata": {},
   "outputs": [],
   "source": [
    "# Split the data into training and test sets\n",
    "X_train, X_test, y_train, y_test = train_test_split(X, y, test_size=0.3, random_state=42)"
   ]
  },
  {
   "cell_type": "code",
   "execution_count": 271,
   "id": "3595553c-dab9-4465-a172-ec5c2c47daa2",
   "metadata": {},
   "outputs": [
    {
     "data": {
      "image/png": "[encoded data removed]",
      "text/plain": [
       "<Figure size 1200x800 with 2 Axes>"
      ]
     },
     "metadata": {},
     "output_type": "display_data"
    }
   ],
   "source": [
    "corr_matrix = df.corr()\n",
    "\n",
    "# Plot heatmap\n",
    "plt.figure(figsize=(12, 8))\n",
    "sns.heatmap(corr_matrix, annot=True, cmap='coolwarm', vmin=-1, vmax=1)\n",
    "plt.title('Correlation Matrix for All Features')\n",
    "plt.show()"
   ]
  },
  {
   "cell_type": "markdown",
   "id": "9045fbb9-6789-4f06-bb99-2fefafdc2261",
   "metadata": {},
   "source": [
    "### Building a ANN   "
   ]
  },
  {
   "cell_type": "code",
   "execution_count": 299,
   "id": "dc7fdf9f-3d73-4fff-b78e-47799d033058",
   "metadata": {},
   "outputs": [],
   "source": [
    "import pandas as pd\n",
    "from sklearn.model_selection import train_test_split\n",
    "from sklearn.preprocessing import StandardScaler, OneHotEncoder\n",
    "from sklearn.compose import ColumnTransformer\n",
    "from tensorflow.keras.models import Sequential\n",
    "from tensorflow.keras.layers import Dense, Dropout\n",
    "from sklearn.model_selection import KFold\n",
    "from tensorflow.keras.optimizers import Adam\n",
    "from tensorflow.keras.layers import Dense, Dropout, BatchNormalization, PReLU, ELU\n",
    "from keras_tuner import HyperModel, RandomSearch\n",
    "from sklearn.metrics import mean_squared_error, mean_absolute_error, r2_score\n",
    "from tensorflow.keras.optimizers import AdamW\n",
    "from kerastuner import HyperModel\n",
    "from tensorflow.keras.regularizers import l2"
   ]
  },
  {
   "cell_type": "code",
   "execution_count": 306,
   "id": "af6a9d9e-bb7e-4d80-b08e-b9566bbf3492",
   "metadata": {},
   "outputs": [],
   "source": [
    "class MyHyperModel(HyperModel):\n",
    "    def build(self, hp):\n",
    "        model = Sequential()\n",
    "        model.add(Dense(units=hp.Int('units_1', min_value=32, max_value=512, step=32), \n",
    "                        activation='relu', kernel_initializer='he_normal', input_shape=(X_train.shape[1],)))\n",
    "        model.add(Dropout(rate=hp.Float('dropout_1', min_value=0.0, max_value=0.5, step=0.1)))\n",
    "        \n",
    "        # Define the number of additional layers as a hyperparameter\n",
    "        num_layers = hp.Int('num_layers', 1, 5)\n",
    "        \n",
    "        for i in range(num_layers):\n",
    "            model.add(Dense(units=hp.Int(f'units_{i+2}', min_value=32, max_value=512, step=32), \n",
    "                            activation='relu', kernel_initializer='he_normal'))\n",
    "            model.add(Dropout(rate=hp.Float(f'dropout_{i+2}', min_value=0.0, max_value=0.5, step=0.1)))\n",
    "        \n",
    "        model.add(Dense(units=1))\n",
    "        \n",
    "        model.compile(optimizer=AdamW(learning_rate=hp.Choice('learning_rate', [1e-2, 1e-3, 1e-4])),\n",
    "              loss='mean_squared_error')\n",
    "        \n",
    "        return model"
   ]
  },
  {
   "cell_type": "code",
   "execution_count": 307,
   "id": "49c9bfc5-5f5a-451f-9937-915e4658ff09",
   "metadata": {},
   "outputs": [
    {
     "name": "stdout",
     "output_type": "stream",
     "text": [
      "Trial 15 Complete [00h 01m 03s]\n",
      "val_loss: 0.011107333935797215\n",
      "\n",
      "Best val_loss So Far: 0.010216513648629189\n",
      "Total elapsed time: 00h 21m 05s\n"
     ]
    },
    {
     "name": "stderr",
     "output_type": "stream",
     "text": [
      "C:\\Users\\vishn\\AppData\\Local\\Programs\\Python\\Python311\\Lib\\site-packages\\keras\\src\\layers\\core\\dense.py:87: UserWarning: Do not pass an `input_shape`/`input_dim` argument to a layer. When using Sequential models, prefer using an `Input(shape)` object as the first layer in the model instead.\n",
      "  super().__init__(activity_regularizer=activity_regularizer, **kwargs)\n",
      "C:\\Users\\vishn\\AppData\\Local\\Programs\\Python\\Python311\\Lib\\site-packages\\keras\\src\\saving\\saving_lib.py:576: UserWarning: Skipping variable loading for optimizer 'adamw', because it has 2 variables whereas the saved optimizer has 22 variables. \n",
      "  saveable.load_own_variables(weights_store.get(inner_path))\n"
     ]
    }
   ],
   "source": [
    "from keras.callbacks import EarlyStopping\n",
    "# Instantiate the tuner\n",
    "tuner = RandomSearch(\n",
    "    MyHyperModel(),\n",
    "    objective='val_loss',\n",
    "    max_trials=15,\n",
    "    executions_per_trial=1,\n",
    "    directory='epoch_dir',\n",
    "    project_name='helloworld'\n",
    ")\n",
    "\n",
    "early_stopping = EarlyStopping(monitor='val_loss', patience=3, restore_best_weights=True)\n",
    "# Run the hyperparameter search\n",
    "tuner.search(X_train, y_train, epochs=75, validation_split=0.2)\n",
    "\n",
    "# Get the best model\n",
    "best_model = tuner.get_best_models(num_models=1)[0]"
   ]
  },
  {
   "cell_type": "code",
   "execution_count": 293,
   "id": "e3fc7ad3-1efa-4e8d-969c-8f454b9b464a",
   "metadata": {},
   "outputs": [
    {
     "name": "stdout",
     "output_type": "stream",
     "text": [
      "\u001b[1m111/111\u001b[0m \u001b[32m━━━━━━━━━━━━━━━━━━━━\u001b[0m\u001b[37m\u001b[0m \u001b[1m1s\u001b[0m 4ms/step\n"
     ]
    }
   ],
   "source": [
    "from sklearn.metrics import mean_squared_error, mean_absolute_error, r2_score\n",
    "import numpy as np\n",
    "\n",
    "y_pred = best_model.predict(X_test)"
   ]
  },
  {
   "cell_type": "code",
   "execution_count": 301,
   "id": "520302ad-57a8-4535-8b9f-19f6b6565099",
   "metadata": {},
   "outputs": [
    {
     "name": "stdout",
     "output_type": "stream",
     "text": [
      "Mean Squared Error: 0.009297266413383288\n",
      "Mean Absolute Error: 0.07700232288923087\n",
      "R-squared: 0.711905322951214\n"
     ]
    }
   ],
   "source": [
    "# Reverse normalization for predictions and actual values\n",
    "\n",
    "\n",
    "# Calculate metrics\n",
    "mse = mean_squared_error(y_test, y_pred)\n",
    "mae = mean_absolute_error(y_test, y_pred)\n",
    "r2 = r2_score(y_test, y_pred)\n",
    "\n",
    "print(f'Mean Squared Error: {mse}')\n",
    "print(f'Mean Absolute Error: {mae}')\n",
    "print(f'R-squared: {r2}')"
   ]
  },
  {
   "cell_type": "code",
   "execution_count": 295,
   "id": "f1e387dc-2e3b-41f6-b306-2fee90409db3",
   "metadata": {},
   "outputs": [
    {
     "data": {
      "text/html": [
       "<div>\n",
       "<style scoped>\n",
       "    .dataframe tbody tr th:only-of-type {\n",
       "        vertical-align: middle;\n",
       "    }\n",
       "\n",
       "    .dataframe tbody tr th {\n",
       "        vertical-align: top;\n",
       "    }\n",
       "\n",
       "    .dataframe thead th {\n",
       "        text-align: right;\n",
       "    }\n",
       "</style>\n",
       "<table border=\"1\" class=\"dataframe\">\n",
       "  <thead>\n",
       "    <tr style=\"text-align: right;\">\n",
       "      <th></th>\n",
       "      <th>Job_Title</th>\n",
       "      <th>position</th>\n",
       "      <th>State</th>\n",
       "      <th>Salary</th>\n",
       "      <th>High_skills</th>\n",
       "      <th>Low_skills</th>\n",
       "      <th>Tenure</th>\n",
       "      <th>Total_Experience</th>\n",
       "      <th>Company_Encoded</th>\n",
       "    </tr>\n",
       "  </thead>\n",
       "  <tbody>\n",
       "    <tr>\n",
       "      <th>93019</th>\n",
       "      <td>0.769231</td>\n",
       "      <td>1.0</td>\n",
       "      <td>0.0</td>\n",
       "      <td>0.595168</td>\n",
       "      <td>0.181818</td>\n",
       "      <td>0.0</td>\n",
       "      <td>0.6</td>\n",
       "      <td>0.6</td>\n",
       "      <td>0.598475</td>\n",
       "    </tr>\n",
       "    <tr>\n",
       "      <th>71443</th>\n",
       "      <td>0.538462</td>\n",
       "      <td>0.5</td>\n",
       "      <td>0.7</td>\n",
       "      <td>0.504613</td>\n",
       "      <td>0.636364</td>\n",
       "      <td>0.0</td>\n",
       "      <td>1.0</td>\n",
       "      <td>1.0</td>\n",
       "      <td>0.598475</td>\n",
       "    </tr>\n",
       "  </tbody>\n",
       "</table>\n",
       "</div>"
      ],
      "text/plain": [
       "       Job_Title  position  State    Salary  High_skills  Low_skills  Tenure  \\\n",
       "93019   0.769231       1.0    0.0  0.595168     0.181818         0.0     0.6   \n",
       "71443   0.538462       0.5    0.7  0.504613     0.636364         0.0     1.0   \n",
       "\n",
       "       Total_Experience  Company_Encoded  \n",
       "93019               0.6         0.598475  \n",
       "71443               1.0         0.598475  "
      ]
     },
     "execution_count": 295,
     "metadata": {},
     "output_type": "execute_result"
    }
   ],
   "source": [
    "df.sample(2)"
   ]
  },
  {
   "cell_type": "code",
   "execution_count": 298,
   "id": "12e74e97-d248-4891-9bcc-3e0da2b2f091",
   "metadata": {},
   "outputs": [
    {
     "name": "stdout",
     "output_type": "stream",
     "text": [
      "\u001b[1m1/1\u001b[0m \u001b[32m━━━━━━━━━━━━━━━━━━━━\u001b[0m\u001b[37m\u001b[0m \u001b[1m0s\u001b[0m 25ms/step\n",
      "Predicted Salary: 0.3703555762767792\n"
     ]
    }
   ],
   "source": [
    "input_data = np.array([[0.076923, 0.5, 0.6,  0.545455, 0.0, 1.0, 1.0, 0.570010]])\n",
    "\n",
    "# Predict the salary\n",
    "predicted_salary = best_model.predict(input_data)\n",
    "\n",
    "print(f\"Predicted Salary: {predicted_salary[0][0]}\")"
   ]
  },
  {
   "cell_type": "raw",
   "id": "321f1e0d-2d6f-45ca-8aab-59350bcaa7f3",
   "metadata": {},
   "source": [
    "from tensorflow.keras.models import load_model\n",
    "best_model.save('best_model.h5')"
   ]
  }
 ],
 "metadata": {
  "kernelspec": {
   "display_name": "Python 3 (ipykernel)",
   "language": "python",
   "name": "python3"
  },
  "language_info": {
   "codemirror_mode": {
    "name": "ipython",
    "version": 3
   },
   "file_extension": ".py",
   "mimetype": "text/x-python",
   "name": "python",
   "nbconvert_exporter": "python",
   "pygments_lexer": "ipython3",
   "version": "3.11.7"
  }
 },
 "nbformat": 4,
 "nbformat_minor": 5
}
