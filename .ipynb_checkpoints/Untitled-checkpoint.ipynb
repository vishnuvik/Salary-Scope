{
 "cells": [
  {
   "cell_type": "code",
   "execution_count": 6,
   "id": "bb290f50-df63-4366-9f2f-c0fcc3109b2f",
   "metadata": {},
   "outputs": [
    {
     "name": "stdout",
     "output_type": "stream",
     "text": [
      "WARNING:tensorflow:6 out of the last 6 calls to <function TensorFlowTrainer.make_train_function.<locals>.one_step_on_iterator at 0x00000220FE5E6C00> triggered tf.function retracing. Tracing is expensive and the excessive number of tracings could be due to (1) creating @tf.function repeatedly in a loop, (2) passing tensors with different shapes, (3) passing Python objects instead of tensors. For (1), please define your @tf.function outside of the loop. For (2), @tf.function has reduce_retracing=True option that can avoid unnecessary retracing. For (3), please refer to https://www.tensorflow.org/guide/function#controlling_retracing and https://www.tensorflow.org/api_docs/python/tf/function for  more details.\n"
     ]
    },
    {
     "data": {
      "text/html": [
       "<div>\n",
       "<style scoped>\n",
       "    .dataframe tbody tr th:only-of-type {\n",
       "        vertical-align: middle;\n",
       "    }\n",
       "\n",
       "    .dataframe tbody tr th {\n",
       "        vertical-align: top;\n",
       "    }\n",
       "\n",
       "    .dataframe thead th {\n",
       "        text-align: right;\n",
       "    }\n",
       "</style>\n",
       "<table border=\"1\" class=\"dataframe\">\n",
       "  <thead>\n",
       "    <tr style=\"text-align: right;\">\n",
       "      <th></th>\n",
       "      <th>Experience</th>\n",
       "      <th>Skills</th>\n",
       "    </tr>\n",
       "  </thead>\n",
       "  <tbody>\n",
       "    <tr>\n",
       "      <th>0</th>\n",
       "      <td>7</td>\n",
       "      <td>[r, sql, machine learning, deep learning, mach...</td>\n",
       "    </tr>\n",
       "  </tbody>\n",
       "</table>\n",
       "</div>"
      ],
      "text/plain": [
       "   Experience                                             Skills\n",
       "0           7  [r, sql, machine learning, deep learning, mach..."
      ]
     },
     "execution_count": 6,
     "metadata": {},
     "output_type": "execute_result"
    }
   ],
   "source": [
    "import numpy as np\n",
    "import pandas as pd\n",
    "from tensorflow.keras.models import Sequential\n",
    "from tensorflow.keras.layers import Embedding, SimpleRNN, Dense\n",
    "from tensorflow.keras.preprocessing.text import Tokenizer\n",
    "from tensorflow.keras.preprocessing.sequence import pad_sequences\n",
    "\n",
    "# Sample text input\n",
    "text_input = [\"I am a data scientist with 7 years of experience in AI, more skilled in python,then intermediate in power bi ,then also skilled in R, SQL, machine learning, and deep learning.\"]\n",
    "\n",
    "# Example pre-trained tokenizer and model (for demonstration only)\n",
    "tokenizer = Tokenizer()\n",
    "tokenizer.fit_on_texts(text_input)  # Fit tokenizer on the sample input\n",
    "\n",
    "# Dummy model creation for demonstration\n",
    "model = Sequential()\n",
    "model.add(Embedding(input_dim=len(tokenizer.word_index) + 1, output_dim=50))\n",
    "model.add(SimpleRNN(64))\n",
    "model.add(Dense(2, activation='sigmoid'))  # Output layer for experience and skills\n",
    "\n",
    "# Dummy model compilation and fitting\n",
    "model.compile(optimizer='adam', loss='binary_crossentropy', metrics=['accuracy'])\n",
    "model.fit(pad_sequences(tokenizer.texts_to_sequences(text_input), padding='post'), \n",
    "          np.array([[1, 1]]), epochs=1, verbose=0)  # Dummy training\n",
    "\n",
    "# Function to extract experience and skills from text\n",
    "def extract_features(text):\n",
    "    # Dummy extraction logic\n",
    "    experience = None\n",
    "    skills = []\n",
    "    \n",
    "    if \"experience\" in text.lower():\n",
    "        # Extract experience (basic example, needs enhancement for real applications)\n",
    "        for word in text.split():\n",
    "            if word.isdigit():\n",
    "                experience = int(word)\n",
    "    \n",
    "    # Extract skills (basic example, needs enhancement for real applications)\n",
    "    skill_keywords = [\"r\", \"sql\", \"machine learning\", \"deep learning\",\"machine learning\",\"cnn\",\"rnn\",\"jupyter\",\"python\",\"power BI\"]\n",
    "    for keyword in skill_keywords:\n",
    "        if keyword in text.lower():\n",
    "            skills.append(keyword)\n",
    "    \n",
    "    return experience, skills\n",
    "\n",
    "# Extract features from the input text\n",
    "experience, skills = extract_features(text_input[0])\n",
    "\n",
    "# Create DataFrame\n",
    "df = pd.DataFrame({\n",
    "    'Experience': [experience],\n",
    "    'Skills': [skills]\n",
    "})\n",
    "\n",
    "# Display DataFrame\n",
    "df\n"
   ]
  }
 ],
 "metadata": {
  "kernelspec": {
   "display_name": "Python 3 (ipykernel)",
   "language": "python",
   "name": "python3"
  },
  "language_info": {
   "codemirror_mode": {
    "name": "ipython",
    "version": 3
   },
   "file_extension": ".py",
   "mimetype": "text/x-python",
   "name": "python",
   "nbconvert_exporter": "python",
   "pygments_lexer": "ipython3",
   "version": "3.11.7"
  }
 },
 "nbformat": 4,
 "nbformat_minor": 5
}
