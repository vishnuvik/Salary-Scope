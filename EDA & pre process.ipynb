{
 "cells": [
  {
   "cell_type": "markdown",
   "id": "541e1d7b-ead2-4758-a447-bbf66890e008",
   "metadata": {},
   "source": [
    "### Load to mongo DB"
   ]
  },
  {
   "cell_type": "code",
   "execution_count": 1,
   "id": "03173fd3-4309-47ac-b3ca-2881c817501c",
   "metadata": {},
   "outputs": [],
   "source": [
    "import pandas as pd\n",
    "from pymongo import MongoClient\n",
    "import numpy as np\n",
    "import matplotlib.pyplot as plt\n",
    "import seaborn as sns\n",
    "import scipy.stats as stats\n",
    "from sklearn.impute import SimpleImputer\n",
    "import re\n",
    "from sklearn.preprocessing import LabelEncoder\n",
    "from collections import Counter\n",
    "from itertools import chain\n",
    "import ast"
   ]
  },
  {
   "cell_type": "raw",
   "id": "08f46d96-5360-4407-a237-af28600ea8d0",
   "metadata": {},
   "source": [
    "import pandas as pd\n",
    "from pymongo import MongoClient\n",
    "\n",
    "# Define the file path and MongoDB details\n",
    "file_path = \"D:/Downloads/Jobs_final.csv\"  # Update with your file path\n",
    "mongo_uri = \"mongodb://localhost:27017/\"\n",
    "database_name = \"test\"\n",
    "collection_name = \"indeed\"\n",
    "\n",
    "# Step 1: Read the CSV file into a DataFrame with specified encoding\n",
    "try:\n",
    "    df = pd.read_csv(file_path, encoding='ISO-8859-1')  # You can try 'latin1' or 'ISO-8859-1' if UTF-8 fails\n",
    "    print(f\"Successfully read the CSV file: {file_path}\")\n",
    "except UnicodeDecodeError as e:\n",
    "    print(f\"Error reading the CSV file with default encoding: {e}\")\n",
    "    exit()\n",
    "except Exception as e:\n",
    "    print(f\"Error reading the CSV file: {e}\")\n",
    "    exit()\n",
    "\n",
    "# Step 2: Convert the DataFrame to a list of dictionaries\n",
    "try:\n",
    "    records = df.to_dict(orient='records')\n",
    "    print(f\"Successfully converted DataFrame to a list of records.\")\n",
    "except Exception as e:\n",
    "    print(f\"Error converting DataFrame to records: {e}\")\n",
    "    exit()\n",
    "\n",
    "# Step 3: Connect to MongoDB\n",
    "try:\n",
    "    client = MongoClient(mongo_uri)\n",
    "    db = client[database_name]\n",
    "    collection = db[collection_name]\n",
    "    print(f\"Successfully connected to MongoDB: {mongo_uri}\")\n",
    "except Exception as e:\n",
    "    print(f\"Error connecting to MongoDB: {e}\")\n",
    "    exit()\n",
    "\n",
    "# Step 4: Insert data into MongoDB\n",
    "try:\n",
    "    if records:\n",
    "        collection.insert_many(records)\n",
    "        print(f\"Data from {file_path} has been successfully inserted into the MongoDB collection '{collection_name}' in the '{database_name}' database.\")\n",
    "    else:\n",
    "        print(\"No records to insert.\")\n",
    "except Exception as e:\n",
    "    print(f\"Error inserting data into MongoDB: {e}\")\n",
    "    exit()\n"
   ]
  },
  {
   "cell_type": "code",
   "execution_count": 2,
   "id": "0b8b602b-5f81-4d1b-8658-45002398cb59",
   "metadata": {},
   "outputs": [],
   "source": [
    "client = MongoClient(\"mongodb://localhost:27017/\")\n",
    "db = client['test']\n",
    "collection = db['indeed']"
   ]
  },
  {
   "cell_type": "code",
   "execution_count": 3,
   "id": "457bcee9-bdb4-48ea-8884-2948f5dc8a93",
   "metadata": {},
   "outputs": [],
   "source": [
    "# Fetch all data from the collection\n",
    "data = list(collection.find())\n",
    "\n",
    "# Convert the data to a DataFrame\n",
    "df = pd.DataFrame(data)"
   ]
  },
  {
   "cell_type": "code",
   "execution_count": 4,
   "id": "caa3b64c-072e-4ca1-a5ae-815cdda0a58e",
   "metadata": {},
   "outputs": [
    {
     "data": {
      "text/html": [
       "<div>\n",
       "<style scoped>\n",
       "    .dataframe tbody tr th:only-of-type {\n",
       "        vertical-align: middle;\n",
       "    }\n",
       "\n",
       "    .dataframe tbody tr th {\n",
       "        vertical-align: top;\n",
       "    }\n",
       "\n",
       "    .dataframe thead th {\n",
       "        text-align: right;\n",
       "    }\n",
       "</style>\n",
       "<table border=\"1\" class=\"dataframe\">\n",
       "  <thead>\n",
       "    <tr style=\"text-align: right;\">\n",
       "      <th></th>\n",
       "      <th>_id</th>\n",
       "      <th>ID</th>\n",
       "      <th>Job</th>\n",
       "      <th>Jobs_Group</th>\n",
       "      <th>Profile</th>\n",
       "      <th>Remote</th>\n",
       "      <th>Company</th>\n",
       "      <th>Location</th>\n",
       "      <th>City</th>\n",
       "      <th>State</th>\n",
       "      <th>Salary</th>\n",
       "      <th>Frecuency_Salary</th>\n",
       "      <th>Low_Salary</th>\n",
       "      <th>High_Salary</th>\n",
       "      <th>Mean_Salary</th>\n",
       "      <th>Skills</th>\n",
       "      <th>Unnamed: 15</th>\n",
       "      <th>Rating</th>\n",
       "      <th>Job_description</th>\n",
       "    </tr>\n",
       "  </thead>\n",
       "  <tbody>\n",
       "    <tr>\n",
       "      <th>114970</th>\n",
       "      <td>669bf9dcbd7e1566806ebc32</td>\n",
       "      <td>job_eb1906d8dad2318b</td>\n",
       "      <td>SR. FINANCIAL ANALYST (TECHNICAL ACCOUNTING VA...</td>\n",
       "      <td>Financial Analyst</td>\n",
       "      <td>Senior</td>\n",
       "      <td>Hybrid</td>\n",
       "      <td>Compass Corporate</td>\n",
       "      <td>Charlotte, NC 28217Â (Eagle Lake area)</td>\n",
       "      <td>Charlotte</td>\n",
       "      <td>NC</td>\n",
       "      <td>NaN</td>\n",
       "      <td>NaN</td>\n",
       "      <td>NaN</td>\n",
       "      <td>NaN</td>\n",
       "      <td>NaN</td>\n",
       "      <td>['CPA', 'Bachelor', 'Access', 'Excel', 'Essbas...</td>\n",
       "      <td>NaN</td>\n",
       "      <td>3.8</td>\n",
       "      <td>Monitor financial performance and trends.</td>\n",
       "    </tr>\n",
       "  </tbody>\n",
       "</table>\n",
       "</div>"
      ],
      "text/plain": [
       "                             _id                    ID  \\\n",
       "114970  669bf9dcbd7e1566806ebc32  job_eb1906d8dad2318b   \n",
       "\n",
       "                                                      Job         Jobs_Group  \\\n",
       "114970  SR. FINANCIAL ANALYST (TECHNICAL ACCOUNTING VA...  Financial Analyst   \n",
       "\n",
       "       Profile  Remote            Company  \\\n",
       "114970  Senior  Hybrid  Compass Corporate   \n",
       "\n",
       "                                      Location       City State Salary  \\\n",
       "114970  Charlotte, NC 28217Â (Eagle Lake area)  Charlotte    NC    NaN   \n",
       "\n",
       "       Frecuency_Salary  Low_Salary  High_Salary  Mean_Salary  \\\n",
       "114970              NaN         NaN          NaN          NaN   \n",
       "\n",
       "                                                   Skills  Unnamed: 15  \\\n",
       "114970  ['CPA', 'Bachelor', 'Access', 'Excel', 'Essbas...          NaN   \n",
       "\n",
       "        Rating                            Job_description  \n",
       "114970     3.8  Monitor financial performance and trends.  "
      ]
     },
     "execution_count": 4,
     "metadata": {},
     "output_type": "execute_result"
    }
   ],
   "source": [
    "df.sample()"
   ]
  },
  {
   "cell_type": "code",
   "execution_count": 5,
   "id": "a6f42d7e-e611-4a6e-907b-2138e1db1ac5",
   "metadata": {},
   "outputs": [
    {
     "data": {
      "text/plain": [
       "array(['Data Analyst', 'CFO', 'Business Analyst', 'Business Intelligence',\n",
       "       'Operations Analyst', 'Others', 'Data Engineer',\n",
       "       'Financial Analyst', 'Analyst', 'Statistician/Mathemathics',\n",
       "       'Finance', 'Controller', 'Data Scientist', 'ML/AI Engineer'],\n",
       "      dtype=object)"
      ]
     },
     "execution_count": 5,
     "metadata": {},
     "output_type": "execute_result"
    }
   ],
   "source": [
    "df['Jobs_Group'].unique()"
   ]
  },
  {
   "cell_type": "code",
   "execution_count": 6,
   "id": "847708f2-801a-4f4c-af6d-3a4745d00dc0",
   "metadata": {},
   "outputs": [
    {
     "data": {
      "text/plain": [
       "(146392, 19)"
      ]
     },
     "execution_count": 6,
     "metadata": {},
     "output_type": "execute_result"
    }
   ],
   "source": [
    "df.shape"
   ]
  },
  {
   "cell_type": "code",
   "execution_count": 7,
   "id": "c5be9a40-5a2b-4bba-a9a9-5f5b7aaae857",
   "metadata": {},
   "outputs": [
    {
     "data": {
      "text/plain": [
       "_id                      0\n",
       "ID                       0\n",
       "Job                      0\n",
       "Jobs_Group               0\n",
       "Profile              92479\n",
       "Remote               89399\n",
       "Company                  0\n",
       "Location                26\n",
       "City                 16138\n",
       "State                12575\n",
       "Salary               70053\n",
       "Frecuency_Salary     89925\n",
       "Low_Salary           84702\n",
       "High_Salary          89925\n",
       "Mean_Salary          89925\n",
       "Skills                   0\n",
       "Unnamed: 15         146392\n",
       "Rating                   0\n",
       "Job_description          0\n",
       "dtype: int64"
      ]
     },
     "execution_count": 7,
     "metadata": {},
     "output_type": "execute_result"
    }
   ],
   "source": [
    "df.isnull().sum()"
   ]
  },
  {
   "cell_type": "code",
   "execution_count": 8,
   "id": "fb2ac518-3d3d-4f7b-a0b6-2417c95748d2",
   "metadata": {},
   "outputs": [
    {
     "name": "stdout",
     "output_type": "stream",
     "text": [
      "<class 'pandas.core.frame.DataFrame'>\n",
      "RangeIndex: 146392 entries, 0 to 146391\n",
      "Data columns (total 19 columns):\n",
      " #   Column            Non-Null Count   Dtype  \n",
      "---  ------            --------------   -----  \n",
      " 0   _id               146392 non-null  object \n",
      " 1   ID                146392 non-null  object \n",
      " 2   Job               146392 non-null  object \n",
      " 3   Jobs_Group        146392 non-null  object \n",
      " 4   Profile           53913 non-null   object \n",
      " 5   Remote            56993 non-null   object \n",
      " 6   Company           146392 non-null  object \n",
      " 7   Location          146366 non-null  object \n",
      " 8   City              130254 non-null  object \n",
      " 9   State             133817 non-null  object \n",
      " 10  Salary            76339 non-null   object \n",
      " 11  Frecuency_Salary  56467 non-null   object \n",
      " 12  Low_Salary        61690 non-null   float64\n",
      " 13  High_Salary       56467 non-null   float64\n",
      " 14  Mean_Salary       56467 non-null   float64\n",
      " 15  Skills            146392 non-null  object \n",
      " 16  Unnamed: 15       0 non-null       float64\n",
      " 17  Rating            146392 non-null  float64\n",
      " 18  Job_description   146392 non-null  object \n",
      "dtypes: float64(5), object(14)\n",
      "memory usage: 21.2+ MB\n"
     ]
    },
    {
     "data": {
      "text/html": [
       "<div>\n",
       "<style scoped>\n",
       "    .dataframe tbody tr th:only-of-type {\n",
       "        vertical-align: middle;\n",
       "    }\n",
       "\n",
       "    .dataframe tbody tr th {\n",
       "        vertical-align: top;\n",
       "    }\n",
       "\n",
       "    .dataframe thead th {\n",
       "        text-align: right;\n",
       "    }\n",
       "</style>\n",
       "<table border=\"1\" class=\"dataframe\">\n",
       "  <thead>\n",
       "    <tr style=\"text-align: right;\">\n",
       "      <th></th>\n",
       "      <th>Low_Salary</th>\n",
       "      <th>High_Salary</th>\n",
       "      <th>Mean_Salary</th>\n",
       "      <th>Unnamed: 15</th>\n",
       "      <th>Rating</th>\n",
       "    </tr>\n",
       "  </thead>\n",
       "  <tbody>\n",
       "    <tr>\n",
       "      <th>count</th>\n",
       "      <td>61690.000000</td>\n",
       "      <td>56467.000000</td>\n",
       "      <td>56467.000000</td>\n",
       "      <td>0.0</td>\n",
       "      <td>146392.000000</td>\n",
       "    </tr>\n",
       "    <tr>\n",
       "      <th>mean</th>\n",
       "      <td>89843.472547</td>\n",
       "      <td>119232.030435</td>\n",
       "      <td>105018.032179</td>\n",
       "      <td>NaN</td>\n",
       "      <td>3.465737</td>\n",
       "    </tr>\n",
       "    <tr>\n",
       "      <th>std</th>\n",
       "      <td>38809.363604</td>\n",
       "      <td>53350.596307</td>\n",
       "      <td>43921.939873</td>\n",
       "      <td>NaN</td>\n",
       "      <td>0.882952</td>\n",
       "    </tr>\n",
       "    <tr>\n",
       "      <th>min</th>\n",
       "      <td>10.000000</td>\n",
       "      <td>9200.000000</td>\n",
       "      <td>9200.000000</td>\n",
       "      <td>NaN</td>\n",
       "      <td>1.500000</td>\n",
       "    </tr>\n",
       "    <tr>\n",
       "      <th>25%</th>\n",
       "      <td>64896.200000</td>\n",
       "      <td>82976.300000</td>\n",
       "      <td>75000.000000</td>\n",
       "      <td>NaN</td>\n",
       "      <td>2.800000</td>\n",
       "    </tr>\n",
       "    <tr>\n",
       "      <th>50%</th>\n",
       "      <td>82800.000000</td>\n",
       "      <td>110000.000000</td>\n",
       "      <td>96650.000000</td>\n",
       "      <td>NaN</td>\n",
       "      <td>3.500000</td>\n",
       "    </tr>\n",
       "    <tr>\n",
       "      <th>75%</th>\n",
       "      <td>110000.000000</td>\n",
       "      <td>143000.000000</td>\n",
       "      <td>125000.000000</td>\n",
       "      <td>NaN</td>\n",
       "      <td>4.200000</td>\n",
       "    </tr>\n",
       "    <tr>\n",
       "      <th>max</th>\n",
       "      <td>600000.000000</td>\n",
       "      <td>600000.000000</td>\n",
       "      <td>600000.000000</td>\n",
       "      <td>NaN</td>\n",
       "      <td>5.000000</td>\n",
       "    </tr>\n",
       "  </tbody>\n",
       "</table>\n",
       "</div>"
      ],
      "text/plain": [
       "          Low_Salary    High_Salary    Mean_Salary  Unnamed: 15         Rating\n",
       "count   61690.000000   56467.000000   56467.000000          0.0  146392.000000\n",
       "mean    89843.472547  119232.030435  105018.032179          NaN       3.465737\n",
       "std     38809.363604   53350.596307   43921.939873          NaN       0.882952\n",
       "min        10.000000    9200.000000    9200.000000          NaN       1.500000\n",
       "25%     64896.200000   82976.300000   75000.000000          NaN       2.800000\n",
       "50%     82800.000000  110000.000000   96650.000000          NaN       3.500000\n",
       "75%    110000.000000  143000.000000  125000.000000          NaN       4.200000\n",
       "max    600000.000000  600000.000000  600000.000000          NaN       5.000000"
      ]
     },
     "execution_count": 8,
     "metadata": {},
     "output_type": "execute_result"
    }
   ],
   "source": [
    "df.info()\n",
    "df.describe()"
   ]
  },
  {
   "cell_type": "code",
   "execution_count": 9,
   "id": "528be55c-f485-4f9d-9302-6b2e92dda4b4",
   "metadata": {},
   "outputs": [
    {
     "data": {
      "image/png": "[encoded data removed]",
      "text/plain": [
       "<Figure size 640x480 with 1 Axes>"
      ]
     },
     "metadata": {},
     "output_type": "display_data"
    }
   ],
   "source": [
    "df['Rating'].value_counts().plot(kind='bar')\n",
    "plt.show()"
   ]
  },
  {
   "cell_type": "markdown",
   "id": "bd9eb37a-bbaf-49c7-9a76-fc5ca1670986",
   "metadata": {},
   "source": [
    "### pre process"
   ]
  },
  {
   "cell_type": "code",
   "execution_count": 10,
   "id": "4b8b0cca-aad8-4f6e-8820-24efcfbcf98e",
   "metadata": {},
   "outputs": [],
   "source": [
    "column_drop=['_id','ID','Job','City','Salary','Frecuency_Salary','Unnamed: 15','Location',]\n",
    "df.drop(columns=column_drop, inplace=True)"
   ]
  },
  {
   "cell_type": "markdown",
   "id": "c7cfeecb-ad34-434d-a658-4ef11697ea62",
   "metadata": {},
   "source": [
    "#### Company column"
   ]
  },
  {
   "cell_type": "code",
   "execution_count": 11,
   "id": "81f523f9-4f53-4bf4-a351-4b29327ccbaf",
   "metadata": {},
   "outputs": [
    {
     "data": {
      "text/plain": [
       "(146392, 11)"
      ]
     },
     "execution_count": 11,
     "metadata": {},
     "output_type": "execute_result"
    }
   ],
   "source": [
    "df.shape"
   ]
  },
  {
   "cell_type": "code",
   "execution_count": 12,
   "id": "6f2801ef-ce9f-4b20-a13b-795fdce04e7f",
   "metadata": {},
   "outputs": [
    {
     "data": {
      "text/plain": [
       "Company\n",
       "JPMorgan Chase & Co                     664\n",
       "Amazon.com Services LLC                 603\n",
       "Apple                                   596\n",
       "Lockheed Martin                         525\n",
       "Booz Allen Hamilton                     464\n",
       "                                       ... \n",
       "NITSDATA                                  1\n",
       "Ag-Analytics Technology Company, LLC      1\n",
       "SoulCycle HQ                              1\n",
       "EZSVS USA Inc.                            1\n",
       "Home State Insurance Group, Inc.          1\n",
       "Name: count, Length: 40437, dtype: int64"
      ]
     },
     "execution_count": 12,
     "metadata": {},
     "output_type": "execute_result"
    }
   ],
   "source": [
    "df['Company'].value_counts()"
   ]
  },
  {
   "cell_type": "markdown",
   "id": "d868db47-c116-4e56-b6b1-720c21950108",
   "metadata": {},
   "source": [
    "#### salary"
   ]
  },
  {
   "cell_type": "code",
   "execution_count": 13,
   "id": "0bbf9dc6-2c7a-4c36-a45f-6bc5ef69b59b",
   "metadata": {},
   "outputs": [],
   "source": [
    "def fill_mean_salary(row):\n",
    "    if pd.notnull(row['Low_Salary']):\n",
    "        if pd.notnull(row['Profile']):\n",
    "            if 'Senior' in row['Profile'] or 'Lead' in row['Profile']:\n",
    "                return row['Low_Salary'] * 1.2\n",
    "            elif 'Junior' in row['Profile']:\n",
    "                return row['Low_Salary'] * 1.09\n",
    "    return row['Mean_Salary']\n",
    "\n",
    "df['Mean_Salary'] = df.apply(fill_mean_salary, axis=1)"
   ]
  },
  {
   "cell_type": "code",
   "execution_count": 14,
   "id": "562a23b4-3967-4363-8f27-d3cd9161a1da",
   "metadata": {},
   "outputs": [],
   "source": [
    "def fill_nan_salaries(salaries):\n",
    "    non_null_salaries = salaries.dropna().values\n",
    "    return salaries.apply(\n",
    "        lambda x: np.random.choice(non_null_salaries) if pd.isnull(x) and non_null_salaries.size > 0 else x\n",
    "    )\n",
    "\n",
    "# Apply function to 'Mean_Salary' column within each job group using transform\n",
    "df['Mean_Salary'] = df.groupby('Jobs_Group')['Mean_Salary'].transform(fill_nan_salaries)\n",
    "\n"
   ]
  },
  {
   "cell_type": "code",
   "execution_count": 15,
   "id": "54a19272-79f8-4283-a498-aa299c15e0fe",
   "metadata": {},
   "outputs": [],
   "source": [
    "drop_col=['Low_Salary','High_Salary']\n",
    "df.drop(columns=drop_col, inplace=True)"
   ]
  },
  {
   "cell_type": "markdown",
   "id": "ad5c8c18-75d6-4ddb-a2ab-fc79024b8e37",
   "metadata": {},
   "source": [
    "#### State column"
   ]
  },
  {
   "cell_type": "raw",
   "id": "a19c31bd-7dc0-42d2-b5fd-ffc695be5de2",
   "metadata": {},
   "source": [
    "state_counts = df['State'].value_counts()\n",
    "\n",
    "# Identify states with counts less than 400\n",
    "states_less_than_400 = state_counts[state_counts < 2000].index\n",
    "\n",
    "# Identify states with counts between 1000 and 2000\n",
    "states_between_1000_and_2000 = state_counts[(state_counts <= 15000)].index\n",
    "\n",
    "# Ensure there is at least one state with counts between 1000 and 2000\n",
    "if len(states_between_1000_and_2000) == 0:\n",
    "    raise ValueError(\"No states with counts between 1000 and 2000 found.\")\n",
    "\n",
    "# Select one state from the identified states\n",
    "rename_to_state = states_between_1000_and_2000[0]\n",
    "\n",
    "# Rename states with counts less than 400\n",
    "df['State'] = df['State'].apply(lambda x: rename_to_state if x in states_less_than_400 else x)"
   ]
  },
  {
   "cell_type": "code",
   "execution_count": 16,
   "id": "a4670cb9-1488-40a5-a3d9-811c708d3f0b",
   "metadata": {},
   "outputs": [],
   "source": [
    "#### Profile"
   ]
  },
  {
   "cell_type": "code",
   "execution_count": 17,
   "id": "9d07e519-70de-4ecf-893e-a51adccbfeab",
   "metadata": {},
   "outputs": [],
   "source": [
    "def fill_nan_profiles(row):\n",
    "    if pd.isnull(row['Profile']):\n",
    "        if row['Mean_Salary'] < 60000:\n",
    "            return 'Junior'\n",
    "        else:\n",
    "            return np.random.choice(['Senior', 'Lead'])\n",
    "    return row['Profile']\n",
    "\n",
    "# Apply the function to the DataFrame\n",
    "df['Profile'] = df.apply(fill_nan_profiles, axis=1)"
   ]
  },
  {
   "cell_type": "code",
   "execution_count": 18,
   "id": "c3a9bac4-87db-47fd-ad63-bc8298f3a79c",
   "metadata": {},
   "outputs": [
    {
     "data": {
      "text/plain": [
       "Profile\n",
       "Senior    69695\n",
       "Lead      64260\n",
       "Junior    12437\n",
       "Name: count, dtype: int64"
      ]
     },
     "execution_count": 18,
     "metadata": {},
     "output_type": "execute_result"
    }
   ],
   "source": [
    "df['Profile'].value_counts()"
   ]
  },
  {
   "cell_type": "code",
   "execution_count": 19,
   "id": "e8c99c7a-8771-4062-a5fe-10cfd4c82137",
   "metadata": {},
   "outputs": [],
   "source": [
    "### To find frequency of each skill in list"
   ]
  },
  {
   "cell_type": "raw",
   "id": "8e412c45-173e-4fcb-baf0-6210801a5444",
   "metadata": {},
   "source": [
    "# Convert string representations of lists to actual lists\n",
    "import ast\n",
    "\n",
    "df['Skills'] = df['Skills'].apply(ast.literal_eval)\n",
    "\n",
    "# Flatten the list of lists and count occurrences\n",
    "all_skills = [skill for sublist in df['Skills'] for skill in sublist]\n",
    "skill_counts = Counter(all_skills)\n",
    "\n",
    "# Define high and low skills (example criteria)\n",
    "high_skill_threshold = 1000\n",
    "high_skills = set(skill for skill, count in skill_counts.items() if count >= high_skill_threshold)\n",
    "low_skills = set(skill for skill, count in skill_counts.items() if count < high_skill_threshold)\n",
    "\n"
   ]
  },
  {
   "cell_type": "raw",
   "id": "8afcf66b-41d4-4b06-b1b3-5df9202a8f92",
   "metadata": {},
   "source": [
    "print(f\"High skills: {high_skills}\")\n",
    "print(f\"Low skills: {low_skills}\")"
   ]
  },
  {
   "cell_type": "code",
   "execution_count": 20,
   "id": "1f3ee55c-c9c1-4a72-8b5a-db6a7277fccf",
   "metadata": {},
   "outputs": [],
   "source": [
    "#### skills to respective columns"
   ]
  },
  {
   "cell_type": "raw",
   "id": "bfb60af1-8018-4adc-9a81-6c8365a09d48",
   "metadata": {},
   "source": [
    "df['Skills'] = df['Skills'].apply(ast.literal_eval)\n",
    "\n",
    "# Flatten the list of lists and count occurrences\n",
    "all_skills = [skill for sublist in df['Skills'] for skill in sublist]\n",
    "skill_counts = Counter(all_skills)\n",
    "\n",
    "# Define high and low skills (example criteria)\n",
    "high_skill_threshold = 1000  # Adjust threshold as needed\n",
    "high_skills = set(skill for skill, count in skill_counts.items() if count >= high_skill_threshold)\n",
    "low_skills = set(skill for skill, count in skill_counts.items() if count < high_skill_threshold)\n",
    "\n",
    "# Create new columns for counting high and low skills\n",
    "def count_skills(skills_list, high_skills, low_skills):\n",
    "    count_high = sum(1 for skill in skills_list if skill in high_skills)\n",
    "    count_low = sum(1 for skill in skills_list if skill in low_skills)\n",
    "    return pd.Series([count_high, count_low])\n",
    "\n",
    "df[['High_skills', 'Low_skills']] = df['Skills'].apply(\n",
    "    lambda skills: count_skills(skills, high_skills, low_skills)\n",
    ")"
   ]
  },
  {
   "cell_type": "code",
   "execution_count": 22,
   "id": "2ab31e51-f5ea-4430-9170-368f8872cf5f",
   "metadata": {},
   "outputs": [
    {
     "data": {
      "text/html": [
       "<div>\n",
       "<style scoped>\n",
       "    .dataframe tbody tr th:only-of-type {\n",
       "        vertical-align: middle;\n",
       "    }\n",
       "\n",
       "    .dataframe tbody tr th {\n",
       "        vertical-align: top;\n",
       "    }\n",
       "\n",
       "    .dataframe thead th {\n",
       "        text-align: right;\n",
       "    }\n",
       "</style>\n",
       "<table border=\"1\" class=\"dataframe\">\n",
       "  <thead>\n",
       "    <tr style=\"text-align: right;\">\n",
       "      <th></th>\n",
       "      <th>Jobs_Group</th>\n",
       "      <th>Profile</th>\n",
       "      <th>Remote</th>\n",
       "      <th>Company</th>\n",
       "      <th>State</th>\n",
       "      <th>Mean_Salary</th>\n",
       "      <th>Skills</th>\n",
       "      <th>Rating</th>\n",
       "      <th>Job_description</th>\n",
       "      <th>High_skills</th>\n",
       "      <th>Low_skills</th>\n",
       "    </tr>\n",
       "  </thead>\n",
       "  <tbody>\n",
       "    <tr>\n",
       "      <th>131861</th>\n",
       "      <td>Finance</td>\n",
       "      <td>Senior</td>\n",
       "      <td>NaN</td>\n",
       "      <td>Fortrea - Organic</td>\n",
       "      <td>NC</td>\n",
       "      <td>108000.0</td>\n",
       "      <td>[CPA, Bachelor]</td>\n",
       "      <td>3.4</td>\n",
       "      <td>Conduct financial analysis and risk assessments.</td>\n",
       "      <td>2</td>\n",
       "      <td>0</td>\n",
       "    </tr>\n",
       "    <tr>\n",
       "      <th>139689</th>\n",
       "      <td>Controller</td>\n",
       "      <td>Lead</td>\n",
       "      <td>NaN</td>\n",
       "      <td>Schilli Plastering Co</td>\n",
       "      <td>MO</td>\n",
       "      <td>97500.0</td>\n",
       "      <td>[CPA, Excel, Office, Bachelor]</td>\n",
       "      <td>3.3</td>\n",
       "      <td>Manage accounting operations and procedures.</td>\n",
       "      <td>4</td>\n",
       "      <td>0</td>\n",
       "    </tr>\n",
       "  </tbody>\n",
       "</table>\n",
       "</div>"
      ],
      "text/plain": [
       "        Jobs_Group Profile Remote                Company State  Mean_Salary  \\\n",
       "131861     Finance  Senior    NaN      Fortrea - Organic    NC     108000.0   \n",
       "139689  Controller    Lead    NaN  Schilli Plastering Co    MO      97500.0   \n",
       "\n",
       "                                Skills  Rating  \\\n",
       "131861                 [CPA, Bachelor]     3.4   \n",
       "139689  [CPA, Excel, Office, Bachelor]     3.3   \n",
       "\n",
       "                                         Job_description  High_skills  \\\n",
       "131861  Conduct financial analysis and risk assessments.            2   \n",
       "139689      Manage accounting operations and procedures.            4   \n",
       "\n",
       "        Low_skills  \n",
       "131861           0  \n",
       "139689           0  "
      ]
     },
     "execution_count": 22,
     "metadata": {},
     "output_type": "execute_result"
    }
   ],
   "source": [
    "df.sample(2)"
   ]
  },
  {
   "cell_type": "code",
   "execution_count": 23,
   "id": "3bfcfb3a-8f6c-421d-8d39-b032735e6e72",
   "metadata": {},
   "outputs": [
    {
     "data": {
      "text/plain": [
       "(146392, 11)"
      ]
     },
     "execution_count": 23,
     "metadata": {},
     "output_type": "execute_result"
    }
   ],
   "source": [
    "df.shape"
   ]
  },
  {
   "cell_type": "code",
   "execution_count": 25,
   "id": "974e1837-4acb-41af-8438-dd97df6705c5",
   "metadata": {},
   "outputs": [],
   "source": [
    "df.to_csv('Pre-process-scrap.csv', header=True)"
   ]
  },
  {
   "cell_type": "code",
   "execution_count": 24,
   "id": "39583501-d967-48c7-b917-4d45cf7df13f",
   "metadata": {},
   "outputs": [
    {
     "name": "stdout",
     "output_type": "stream",
     "text": [
      "-0.23363899932986476\n",
      "-0.6543773190714166\n"
     ]
    }
   ],
   "source": [
    "\n",
    "\n",
    "# Calculate skewness and kurtosis for the temporary DataFrame\n",
    "original_skewness = stats.skew(df['Rating'])\n",
    "print(original_skewness)\n",
    "original_kurtosis = stats.kurtosis(df['Rating'])\n",
    "print(original_kurtosis)"
   ]
  },
  {
   "cell_type": "code",
   "execution_count": null,
   "id": "be7e8001-5147-4f2a-a94a-d5a843677164",
   "metadata": {},
   "outputs": [],
   "source": []
  },
  {
   "cell_type": "code",
   "execution_count": null,
   "id": "dbc1c0f6-0f39-40c7-8982-9dab19d125be",
   "metadata": {},
   "outputs": [],
   "source": []
  },
  {
   "cell_type": "code",
   "execution_count": null,
   "id": "d86089a9-be39-4f8e-a1ba-8c1d74928567",
   "metadata": {},
   "outputs": [],
   "source": []
  },
  {
   "cell_type": "code",
   "execution_count": null,
   "id": "165bede5-6a03-47ef-b107-3e569a4ad3ce",
   "metadata": {},
   "outputs": [],
   "source": []
  }
 ],
 "metadata": {
  "kernelspec": {
   "display_name": "Python 3 (ipykernel)",
   "language": "python",
   "name": "python3"
  },
  "language_info": {
   "codemirror_mode": {
    "name": "ipython",
    "version": 3
   },
   "file_extension": ".py",
   "mimetype": "text/x-python",
   "name": "python",
   "nbconvert_exporter": "python",
   "pygments_lexer": "ipython3",
   "version": "3.11.7"
  }
 },
 "nbformat": 4,
 "nbformat_minor": 5
}
